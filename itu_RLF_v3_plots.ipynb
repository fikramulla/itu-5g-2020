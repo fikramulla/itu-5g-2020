{
  "nbformat": 4,
  "nbformat_minor": 0,
  "metadata": {
    "colab": {
      "name": "itu_RLF_v3_plots.ipynb",
      "provenance": [],
      "collapsed_sections": [],
      "include_colab_link": true
    },
    "kernelspec": {
      "name": "python3",
      "display_name": "Python 3"
    },
    "accelerator": "TPU"
  },
  "cells": [
    {
      "cell_type": "markdown",
      "metadata": {
        "id": "view-in-github",
        "colab_type": "text"
      },
      "source": [
        "<a href=\"https://colab.research.google.com/github/fikramulla/itu-5g-2020/blob/main/itu_RLF_v3_plots.ipynb\" target=\"_parent\"><img src=\"https://colab.research.google.com/assets/colab-badge.svg\" alt=\"Open In Colab\"/></a>"
      ]
    },
    {
      "cell_type": "markdown",
      "metadata": {
        "id": "N_2gj-arMmlh"
      },
      "source": [
        "ITU Aclara Power Pros Team - Radio Link Failure\n",
        "\n",
        "#####Faiz Ikramulla (fikramulla@hubbell.com ; fikramulla@aclara.com)\n",
        "#####Dhruv Gaonkar (dgaonkar@hubbell.com ; dgaonkar@aclara.com)\n",
        "#####Jeff Anderson (jmanderson@hubbell.com)\n",
        "#####Aaron Hoock (ahoock@hubbell.com)\n"
      ]
    },
    {
      "cell_type": "code",
      "metadata": {
        "id": "pcxW40CJM3OE"
      },
      "source": [
        "# code starts here"
      ],
      "execution_count": null,
      "outputs": []
    },
    {
      "cell_type": "code",
      "metadata": {
        "id": "EvR8yM46DGhC"
      },
      "source": [
        "import numpy as np\n",
        "from numpy import array\n",
        "import pandas as pd\n",
        "import matplotlib.pyplot as plt\n",
        "import matplotlib as mpl\n",
        "import io \n",
        "from sklearn.model_selection import train_test_split"
      ],
      "execution_count": null,
      "outputs": []
    },
    {
      "cell_type": "code",
      "metadata": {
        "id": "Hx7vPjf8d25x"
      },
      "source": [
        "from sklearn.preprocessing import StandardScaler\n",
        "from sklearn.svm import SVC\n",
        "from sklearn import svm\n",
        "from sklearn.metrics import confusion_matrix\n",
        "from sklearn.metrics import precision_score, recall_score, f1_score, accuracy_score\n",
        "import seaborn as sns"
      ],
      "execution_count": null,
      "outputs": []
    },
    {
      "cell_type": "code",
      "metadata": {
        "id": "gRZEXBvo9Y-i",
        "outputId": "6dcbe1dc-42f1-45c5-9ff8-8b943f46df5e",
        "colab": {
          "resources": {
            "http://localhost:8080/nbextensions/google.colab/files.js": {
              "data": "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",
              "ok": true,
              "headers": [
                [
                  "content-type",
                  "application/javascript"
                ]
              ],
              "status": 200,
              "status_text": "OK"
            }
          },
          "base_uri": "https://localhost:8080/",
          "height": 74
        }
      },
      "source": [
        "from google.colab import files\n",
        "uploaded = files.upload()\n",
        "\n",
        "# df2 = pd.read_csv(io.BytesIO(uploaded['turkcell_orig_1.csv']))"
      ],
      "execution_count": null,
      "outputs": [
        {
          "output_type": "display_data",
          "data": {
            "text/html": [
              "\n",
              "     <input type=\"file\" id=\"files-c5be14d6-c203-4024-821b-0941a117dca9\" name=\"files[]\" multiple disabled\n",
              "        style=\"border:none\" />\n",
              "     <output id=\"result-c5be14d6-c203-4024-821b-0941a117dca9\">\n",
              "      Upload widget is only available when the cell has been executed in the\n",
              "      current browser session. Please rerun this cell to enable.\n",
              "      </output>\n",
              "      <script src=\"/nbextensions/google.colab/files.js\"></script> "
            ],
            "text/plain": [
              "<IPython.core.display.HTML object>"
            ]
          },
          "metadata": {
            "tags": []
          }
        },
        {
          "output_type": "stream",
          "text": [
            "Saving turkcell_orig_1.csv to turkcell_orig_1.csv\n"
          ],
          "name": "stdout"
        }
      ]
    },
    {
      "cell_type": "code",
      "metadata": {
        "id": "Ok6l4Ean_TIO",
        "outputId": "342f8fdb-6d2a-4ab7-c18f-051c142a2934",
        "colab": {
          "base_uri": "https://localhost:8080/",
          "height": 53
        }
      },
      "source": [
        "df2 = pd.read_csv('turkcell_orig_1.csv')"
      ],
      "execution_count": null,
      "outputs": [
        {
          "output_type": "stream",
          "text": [
            "/usr/local/lib/python3.6/dist-packages/IPython/core/interactiveshell.py:2718: DtypeWarning: Columns (10,21) have mixed types.Specify dtype option on import or set low_memory=False.\n",
            "  interactivity=interactivity, compiler=compiler, result=result)\n"
          ],
          "name": "stderr"
        }
      ]
    },
    {
      "cell_type": "code",
      "metadata": {
        "id": "6W5-rOkN_t8T",
        "outputId": "068ef938-7824-4d8a-8ac4-e2abb16afaef",
        "colab": {
          "base_uri": "https://localhost:8080/",
          "height": 267
        }
      },
      "source": [
        "print(df2)"
      ],
      "execution_count": null,
      "outputs": [
        {
          "output_type": "stream",
          "text": [
            "        Unnamed: 0 type         datetime  ... capacity  modulation    rlf\n",
            "0             1114  ENK    1/2/2019 0:00  ...      200      512QAM  False\n",
            "1             1115  ENK    1/2/2019 0:00  ...      417  512QAM(QO)  False\n",
            "2             1116  ENK    1/2/2019 0:00  ...      406      512QAM  False\n",
            "3             1117  ENK    1/2/2019 0:00  ...      200      512QAM  False\n",
            "4             1118  NEC    1/2/2019 0:00  ...      257      512QAM  False\n",
            "...            ...  ...              ...  ...      ...         ...    ...\n",
            "180305      181419  ENK  12/31/2019 0:00  ...      203      512QAM  False\n",
            "180306      181420  NEC  12/31/2019 0:00  ...      318      128QAM  False\n",
            "180307      181421  NEC  12/31/2019 0:00  ...      407      512QAM  False\n",
            "180308      181422  NEC  12/31/2019 0:00  ...      407      512QAM  False\n",
            "180309      181423  NEC  12/31/2019 0:00  ...      495     2048QAM  False\n",
            "\n",
            "[180310 rows x 25 columns]\n"
          ],
          "name": "stdout"
        }
      ]
    },
    {
      "cell_type": "code",
      "metadata": {
        "id": "LGwUHeZGASJP",
        "outputId": "9d50c674-8973-4e27-a9d2-44665b4619d7",
        "colab": {
          "base_uri": "https://localhost:8080/",
          "height": 35
        }
      },
      "source": [
        "n = len(pd.unique(df2['rlf'])) \n",
        "n"
      ],
      "execution_count": null,
      "outputs": [
        {
          "output_type": "execute_result",
          "data": {
            "text/plain": [
              "2"
            ]
          },
          "metadata": {
            "tags": []
          },
          "execution_count": 8
        }
      ]
    },
    {
      "cell_type": "code",
      "metadata": {
        "id": "h_2U7GtsAeVV",
        "outputId": "78a60fb2-8b29-4fad-d585-bf05df30b356",
        "colab": {
          "base_uri": "https://localhost:8080/"
        }
      },
      "source": [
        "df2.shape"
      ],
      "execution_count": null,
      "outputs": [
        {
          "output_type": "execute_result",
          "data": {
            "text/plain": [
              "(180310, 25)"
            ]
          },
          "metadata": {
            "tags": []
          },
          "execution_count": 7
        }
      ]
    },
    {
      "cell_type": "code",
      "metadata": {
        "id": "105PygyEChu4",
        "outputId": "600666be-13fb-4404-ac2b-79d7799297da",
        "colab": {
          "base_uri": "https://localhost:8080/"
        }
      },
      "source": [
        "(pd.unique(df2['modulation']))"
      ],
      "execution_count": null,
      "outputs": [
        {
          "output_type": "execute_result",
          "data": {
            "text/plain": [
              "array(['512QAM', '512QAM(QO)', '2048QAM*', '128QAM', '1024 QAM', '16QAM',\n",
              "       '256QAM(Q)', '256QAM', '2048QAM', '64QAM', '128QAM(Q)', 'C-QPSK',\n",
              "       '1024QAM'], dtype=object)"
            ]
          },
          "metadata": {
            "tags": []
          },
          "execution_count": 8
        }
      ]
    },
    {
      "cell_type": "code",
      "metadata": {
        "id": "sAwYxboFfYgw",
        "outputId": "c4880659-48d5-486e-ce43-3efe55e55ff6",
        "colab": {
          "base_uri": "https://localhost:8080/"
        }
      },
      "source": [
        "len((pd.unique(df2['modulation'])))"
      ],
      "execution_count": null,
      "outputs": [
        {
          "output_type": "execute_result",
          "data": {
            "text/plain": [
              "13"
            ]
          },
          "metadata": {
            "tags": []
          },
          "execution_count": 9
        }
      ]
    },
    {
      "cell_type": "code",
      "metadata": {
        "id": "av2gKS3iCwuH",
        "outputId": "5eea127e-b223-4dae-aa1a-6769527b1a6c",
        "colab": {
          "base_uri": "https://localhost:8080/"
        }
      },
      "source": [
        "(pd.unique(df2['capacity']))"
      ],
      "execution_count": null,
      "outputs": [
        {
          "output_type": "execute_result",
          "data": {
            "text/plain": [
              "array([200, 417, 406, 257, 495, 158, 327, 154, 456,  72,  91, 109, 407,\n",
              "        88,  94,  70, 203,  84, 180, 247,  95, 182, 325, 160,  77, 140,\n",
              "        92,  81, 281,  99,  97, 187,  74, 364, 225,  87,  73, 447, 285,\n",
              "       318,   8, 345, 371, 369, 189, 272])"
            ]
          },
          "metadata": {
            "tags": []
          },
          "execution_count": 10
        }
      ]
    },
    {
      "cell_type": "code",
      "metadata": {
        "id": "6ZdloxywDNW7",
        "outputId": "15dd628f-d057-4e69-9f34-4a0eccf17974",
        "colab": {
          "base_uri": "https://localhost:8080/"
        }
      },
      "source": [
        "(np.mean(df2['capacity']))"
      ],
      "execution_count": null,
      "outputs": [
        {
          "output_type": "execute_result",
          "data": {
            "text/plain": [
              "262.47616327436083"
            ]
          },
          "metadata": {
            "tags": []
          },
          "execution_count": 11
        }
      ]
    },
    {
      "cell_type": "code",
      "metadata": {
        "id": "5PV6UVe8DUV6",
        "outputId": "09b3de88-33ba-477b-9240-6f5234346339",
        "colab": {
          "base_uri": "https://localhost:8080/"
        }
      },
      "source": [
        "(np.mean(df2['rxlevmax']))"
      ],
      "execution_count": null,
      "outputs": [
        {
          "output_type": "execute_result",
          "data": {
            "text/plain": [
              "-39.93849814207724"
            ]
          },
          "metadata": {
            "tags": []
          },
          "execution_count": 12
        }
      ]
    },
    {
      "cell_type": "code",
      "metadata": {
        "id": "xC0XeSyWDZ4h",
        "outputId": "9f83b0a7-cb7e-48c6-f22c-4d8fff49c42a",
        "colab": {
          "base_uri": "https://localhost:8080/"
        }
      },
      "source": [
        "(np.max(df2['rxlevmax']))"
      ],
      "execution_count": null,
      "outputs": [
        {
          "output_type": "execute_result",
          "data": {
            "text/plain": [
              "0.0"
            ]
          },
          "metadata": {
            "tags": []
          },
          "execution_count": 13
        }
      ]
    },
    {
      "cell_type": "code",
      "metadata": {
        "id": "AfcxAqKVDdiw",
        "outputId": "abcb01af-7d53-4c0f-f16b-bb66c85dee6c",
        "colab": {
          "base_uri": "https://localhost:8080/"
        }
      },
      "source": [
        "(np.min(df2['rxlevmax']))"
      ],
      "execution_count": null,
      "outputs": [
        {
          "output_type": "execute_result",
          "data": {
            "text/plain": [
              "-99.9"
            ]
          },
          "metadata": {
            "tags": []
          },
          "execution_count": 14
        }
      ]
    },
    {
      "cell_type": "code",
      "metadata": {
        "id": "ybIKQwNeDjGX",
        "outputId": "4932c9c4-3a80-430b-be11-6cb61a9088f1",
        "colab": {
          "base_uri": "https://localhost:8080/"
        }
      },
      "source": [
        "(np.std(df2['rxlevmax']))"
      ],
      "execution_count": null,
      "outputs": [
        {
          "output_type": "execute_result",
          "data": {
            "text/plain": [
              "8.32686875618339"
            ]
          },
          "metadata": {
            "tags": []
          },
          "execution_count": 15
        }
      ]
    },
    {
      "cell_type": "code",
      "metadata": {
        "id": "9JZjMBvtCcIj"
      },
      "source": [
        ""
      ],
      "execution_count": null,
      "outputs": []
    },
    {
      "cell_type": "code",
      "metadata": {
        "id": "GVvCX9qbDpon"
      },
      "source": [
        "# sort data by each modulation type - create dataframe for each type"
      ],
      "execution_count": null,
      "outputs": []
    },
    {
      "cell_type": "code",
      "metadata": {
        "id": "tIpn1oIkEasK"
      },
      "source": [
        "# sample linear regresssion model for rxlevmax as x, rlf as y"
      ],
      "execution_count": null,
      "outputs": []
    },
    {
      "cell_type": "code",
      "metadata": {
        "id": "40cSWYgFElA5"
      },
      "source": [
        "# actually we are predicting T or F, so linear is not good option. will review binary classification models."
      ],
      "execution_count": null,
      "outputs": []
    },
    {
      "cell_type": "code",
      "metadata": {
        "id": "mkBYExkuFVwM"
      },
      "source": [
        "df3 = pd.get_dummies(df2, columns=['rlf'])"
      ],
      "execution_count": null,
      "outputs": []
    },
    {
      "cell_type": "code",
      "metadata": {
        "id": "9j-_94rnFjuL",
        "outputId": "3e64600c-ddc7-4c70-d269-c14ea25337d7",
        "colab": {
          "base_uri": "https://localhost:8080/",
          "height": 635
        }
      },
      "source": [
        "df3"
      ],
      "execution_count": null,
      "outputs": [
        {
          "output_type": "execute_result",
          "data": {
            "text/html": [
              "<div>\n",
              "<style scoped>\n",
              "    .dataframe tbody tr th:only-of-type {\n",
              "        vertical-align: middle;\n",
              "    }\n",
              "\n",
              "    .dataframe tbody tr th {\n",
              "        vertical-align: top;\n",
              "    }\n",
              "\n",
              "    .dataframe thead th {\n",
              "        text-align: right;\n",
              "    }\n",
              "</style>\n",
              "<table border=\"1\" class=\"dataframe\">\n",
              "  <thead>\n",
              "    <tr style=\"text-align: right;\">\n",
              "      <th></th>\n",
              "      <th>Unnamed: 0</th>\n",
              "      <th>type</th>\n",
              "      <th>datetime</th>\n",
              "      <th>tip</th>\n",
              "      <th>mlid</th>\n",
              "      <th>mw_connection_no</th>\n",
              "      <th>site_no</th>\n",
              "      <th>site_id</th>\n",
              "      <th>neid</th>\n",
              "      <th>direction</th>\n",
              "      <th>polarization</th>\n",
              "      <th>card_type</th>\n",
              "      <th>adaptive_modulation</th>\n",
              "      <th>freq_band</th>\n",
              "      <th>link_length</th>\n",
              "      <th>severaly_error_second</th>\n",
              "      <th>error_second</th>\n",
              "      <th>unavail_second</th>\n",
              "      <th>avail_time</th>\n",
              "      <th>bbe</th>\n",
              "      <th>rxlevmax</th>\n",
              "      <th>scalibility_score</th>\n",
              "      <th>capacity</th>\n",
              "      <th>modulation</th>\n",
              "      <th>rlf_False</th>\n",
              "      <th>rlf_True</th>\n",
              "    </tr>\n",
              "  </thead>\n",
              "  <tbody>\n",
              "    <tr>\n",
              "      <th>0</th>\n",
              "      <td>1114</td>\n",
              "      <td>ENK</td>\n",
              "      <td>1/2/2019 0:00</td>\n",
              "      <td>NEAR</td>\n",
              "      <td>K7JW</td>\n",
              "      <td>198755</td>\n",
              "      <td>17438</td>\n",
              "      <td>RL_SKG?K</td>\n",
              "      <td>8713.0</td>\n",
              "      <td>Near End</td>\n",
              "      <td>NaN</td>\n",
              "      <td>cardtype1</td>\n",
              "      <td>Enable</td>\n",
              "      <td>f3</td>\n",
              "      <td>NaN</td>\n",
              "      <td>0</td>\n",
              "      <td>0</td>\n",
              "      <td>0</td>\n",
              "      <td>86400</td>\n",
              "      <td>0</td>\n",
              "      <td>-39.5</td>\n",
              "      <td>0</td>\n",
              "      <td>200</td>\n",
              "      <td>512QAM</td>\n",
              "      <td>1</td>\n",
              "      <td>0</td>\n",
              "    </tr>\n",
              "    <tr>\n",
              "      <th>1</th>\n",
              "      <td>1115</td>\n",
              "      <td>ENK</td>\n",
              "      <td>1/2/2019 0:00</td>\n",
              "      <td>NEAR</td>\n",
              "      <td>K7CX</td>\n",
              "      <td>242760</td>\n",
              "      <td>5006</td>\n",
              "      <td>RL_SKLGO</td>\n",
              "      <td>NaN</td>\n",
              "      <td>NaN</td>\n",
              "      <td>NaN</td>\n",
              "      <td>cardtype1</td>\n",
              "      <td>Enable</td>\n",
              "      <td>f3</td>\n",
              "      <td>NaN</td>\n",
              "      <td>0</td>\n",
              "      <td>0</td>\n",
              "      <td>0</td>\n",
              "      <td>86400</td>\n",
              "      <td>0</td>\n",
              "      <td>-44.2</td>\n",
              "      <td>NaN</td>\n",
              "      <td>417</td>\n",
              "      <td>512QAM(QO)</td>\n",
              "      <td>1</td>\n",
              "      <td>0</td>\n",
              "    </tr>\n",
              "    <tr>\n",
              "      <th>2</th>\n",
              "      <td>1116</td>\n",
              "      <td>ENK</td>\n",
              "      <td>1/2/2019 0:00</td>\n",
              "      <td>NEAR</td>\n",
              "      <td>K7WG</td>\n",
              "      <td>163457</td>\n",
              "      <td>60081</td>\n",
              "      <td>RL_L?EKP</td>\n",
              "      <td>5159.0</td>\n",
              "      <td>Near End</td>\n",
              "      <td>NaN</td>\n",
              "      <td>cardtype4</td>\n",
              "      <td>Enable</td>\n",
              "      <td>f3</td>\n",
              "      <td>NaN</td>\n",
              "      <td>0</td>\n",
              "      <td>0</td>\n",
              "      <td>0</td>\n",
              "      <td>86400</td>\n",
              "      <td>0</td>\n",
              "      <td>-39.8</td>\n",
              "      <td>0</td>\n",
              "      <td>406</td>\n",
              "      <td>512QAM</td>\n",
              "      <td>1</td>\n",
              "      <td>0</td>\n",
              "    </tr>\n",
              "    <tr>\n",
              "      <th>3</th>\n",
              "      <td>1117</td>\n",
              "      <td>ENK</td>\n",
              "      <td>1/2/2019 0:00</td>\n",
              "      <td>FAR</td>\n",
              "      <td>K7DZ</td>\n",
              "      <td>149188</td>\n",
              "      <td>10924</td>\n",
              "      <td>RL_[EMCB</td>\n",
              "      <td>NaN</td>\n",
              "      <td>NaN</td>\n",
              "      <td>NaN</td>\n",
              "      <td>cardtype1</td>\n",
              "      <td>Enable</td>\n",
              "      <td>f2</td>\n",
              "      <td>NaN</td>\n",
              "      <td>0</td>\n",
              "      <td>36</td>\n",
              "      <td>0</td>\n",
              "      <td>36900</td>\n",
              "      <td>81</td>\n",
              "      <td>-40.1</td>\n",
              "      <td>NaN</td>\n",
              "      <td>200</td>\n",
              "      <td>512QAM</td>\n",
              "      <td>1</td>\n",
              "      <td>0</td>\n",
              "    </tr>\n",
              "    <tr>\n",
              "      <th>4</th>\n",
              "      <td>1118</td>\n",
              "      <td>NEC</td>\n",
              "      <td>1/2/2019 0:00</td>\n",
              "      <td>FAR</td>\n",
              "      <td>K7QE</td>\n",
              "      <td>325083</td>\n",
              "      <td>10936</td>\n",
              "      <td>RL_SKTKB</td>\n",
              "      <td>NaN</td>\n",
              "      <td>NaN</td>\n",
              "      <td>NaN</td>\n",
              "      <td>cardtype5</td>\n",
              "      <td>Enable</td>\n",
              "      <td>f5</td>\n",
              "      <td>NaN</td>\n",
              "      <td>0</td>\n",
              "      <td>0</td>\n",
              "      <td>0</td>\n",
              "      <td>86400</td>\n",
              "      <td>0</td>\n",
              "      <td>-32.8</td>\n",
              "      <td>NaN</td>\n",
              "      <td>257</td>\n",
              "      <td>512QAM</td>\n",
              "      <td>1</td>\n",
              "      <td>0</td>\n",
              "    </tr>\n",
              "    <tr>\n",
              "      <th>...</th>\n",
              "      <td>...</td>\n",
              "      <td>...</td>\n",
              "      <td>...</td>\n",
              "      <td>...</td>\n",
              "      <td>...</td>\n",
              "      <td>...</td>\n",
              "      <td>...</td>\n",
              "      <td>...</td>\n",
              "      <td>...</td>\n",
              "      <td>...</td>\n",
              "      <td>...</td>\n",
              "      <td>...</td>\n",
              "      <td>...</td>\n",
              "      <td>...</td>\n",
              "      <td>...</td>\n",
              "      <td>...</td>\n",
              "      <td>...</td>\n",
              "      <td>...</td>\n",
              "      <td>...</td>\n",
              "      <td>...</td>\n",
              "      <td>...</td>\n",
              "      <td>...</td>\n",
              "      <td>...</td>\n",
              "      <td>...</td>\n",
              "      <td>...</td>\n",
              "      <td>...</td>\n",
              "    </tr>\n",
              "    <tr>\n",
              "      <th>180305</th>\n",
              "      <td>181419</td>\n",
              "      <td>ENK</td>\n",
              "      <td>12/31/2019 0:00</td>\n",
              "      <td>FAR</td>\n",
              "      <td>K3LE</td>\n",
              "      <td>1380331</td>\n",
              "      <td>88604</td>\n",
              "      <td>RL_IOQMI</td>\n",
              "      <td>5224.0</td>\n",
              "      <td>Near End</td>\n",
              "      <td>Vertical</td>\n",
              "      <td>cardtype4</td>\n",
              "      <td>Enable</td>\n",
              "      <td>f2</td>\n",
              "      <td>12418.0</td>\n",
              "      <td>0</td>\n",
              "      <td>0</td>\n",
              "      <td>0</td>\n",
              "      <td>86400</td>\n",
              "      <td>0</td>\n",
              "      <td>-47.6</td>\n",
              "      <td>0</td>\n",
              "      <td>203</td>\n",
              "      <td>512QAM</td>\n",
              "      <td>1</td>\n",
              "      <td>0</td>\n",
              "    </tr>\n",
              "    <tr>\n",
              "      <th>180306</th>\n",
              "      <td>181420</td>\n",
              "      <td>NEC</td>\n",
              "      <td>12/31/2019 0:00</td>\n",
              "      <td>FAR</td>\n",
              "      <td>K7LP</td>\n",
              "      <td>1361669</td>\n",
              "      <td>87029</td>\n",
              "      <td>RL_L?WCO</td>\n",
              "      <td>NaN</td>\n",
              "      <td>NaN</td>\n",
              "      <td>Vertical</td>\n",
              "      <td>cardtype5</td>\n",
              "      <td>Enable</td>\n",
              "      <td>f4</td>\n",
              "      <td>1032.0</td>\n",
              "      <td>0</td>\n",
              "      <td>0</td>\n",
              "      <td>0</td>\n",
              "      <td>86400</td>\n",
              "      <td>0</td>\n",
              "      <td>-41.0</td>\n",
              "      <td>NaN</td>\n",
              "      <td>318</td>\n",
              "      <td>128QAM</td>\n",
              "      <td>1</td>\n",
              "      <td>0</td>\n",
              "    </tr>\n",
              "    <tr>\n",
              "      <th>180307</th>\n",
              "      <td>181421</td>\n",
              "      <td>NEC</td>\n",
              "      <td>12/31/2019 0:00</td>\n",
              "      <td>FAR</td>\n",
              "      <td>K3XZ</td>\n",
              "      <td>1367838</td>\n",
              "      <td>23726</td>\n",
              "      <td>RL_SETIJ</td>\n",
              "      <td>NaN</td>\n",
              "      <td>NaN</td>\n",
              "      <td>Horizontal</td>\n",
              "      <td>cardtype5</td>\n",
              "      <td>Enable</td>\n",
              "      <td>f3</td>\n",
              "      <td>9384.0</td>\n",
              "      <td>0</td>\n",
              "      <td>0</td>\n",
              "      <td>0</td>\n",
              "      <td>86400</td>\n",
              "      <td>0</td>\n",
              "      <td>-45.5</td>\n",
              "      <td>NaN</td>\n",
              "      <td>407</td>\n",
              "      <td>512QAM</td>\n",
              "      <td>1</td>\n",
              "      <td>0</td>\n",
              "    </tr>\n",
              "    <tr>\n",
              "      <th>180308</th>\n",
              "      <td>181422</td>\n",
              "      <td>NEC</td>\n",
              "      <td>12/31/2019 0:00</td>\n",
              "      <td>NEAR</td>\n",
              "      <td>K3CG</td>\n",
              "      <td>1373580</td>\n",
              "      <td>84910</td>\n",
              "      <td>RL_SKUSO</td>\n",
              "      <td>NaN</td>\n",
              "      <td>NaN</td>\n",
              "      <td>Horizontal</td>\n",
              "      <td>cardtype5</td>\n",
              "      <td>Enable</td>\n",
              "      <td>f4</td>\n",
              "      <td>1963.0</td>\n",
              "      <td>0</td>\n",
              "      <td>0</td>\n",
              "      <td>0</td>\n",
              "      <td>86400</td>\n",
              "      <td>0</td>\n",
              "      <td>-28.4</td>\n",
              "      <td>NaN</td>\n",
              "      <td>407</td>\n",
              "      <td>512QAM</td>\n",
              "      <td>1</td>\n",
              "      <td>0</td>\n",
              "    </tr>\n",
              "    <tr>\n",
              "      <th>180309</th>\n",
              "      <td>181423</td>\n",
              "      <td>NEC</td>\n",
              "      <td>12/31/2019 0:00</td>\n",
              "      <td>NEAR</td>\n",
              "      <td>K7TG</td>\n",
              "      <td>247011</td>\n",
              "      <td>96965</td>\n",
              "      <td>RL_L?TGQ</td>\n",
              "      <td>NaN</td>\n",
              "      <td>NaN</td>\n",
              "      <td>Vertical</td>\n",
              "      <td>cardtype5</td>\n",
              "      <td>Enable</td>\n",
              "      <td>f3</td>\n",
              "      <td>1195.0</td>\n",
              "      <td>0</td>\n",
              "      <td>0</td>\n",
              "      <td>0</td>\n",
              "      <td>86400</td>\n",
              "      <td>0</td>\n",
              "      <td>-39.4</td>\n",
              "      <td>NaN</td>\n",
              "      <td>495</td>\n",
              "      <td>2048QAM</td>\n",
              "      <td>1</td>\n",
              "      <td>0</td>\n",
              "    </tr>\n",
              "  </tbody>\n",
              "</table>\n",
              "<p>180310 rows × 26 columns</p>\n",
              "</div>"
            ],
            "text/plain": [
              "        Unnamed: 0 type         datetime  ...  modulation rlf_False  rlf_True\n",
              "0             1114  ENK    1/2/2019 0:00  ...      512QAM         1         0\n",
              "1             1115  ENK    1/2/2019 0:00  ...  512QAM(QO)         1         0\n",
              "2             1116  ENK    1/2/2019 0:00  ...      512QAM         1         0\n",
              "3             1117  ENK    1/2/2019 0:00  ...      512QAM         1         0\n",
              "4             1118  NEC    1/2/2019 0:00  ...      512QAM         1         0\n",
              "...            ...  ...              ...  ...         ...       ...       ...\n",
              "180305      181419  ENK  12/31/2019 0:00  ...      512QAM         1         0\n",
              "180306      181420  NEC  12/31/2019 0:00  ...      128QAM         1         0\n",
              "180307      181421  NEC  12/31/2019 0:00  ...      512QAM         1         0\n",
              "180308      181422  NEC  12/31/2019 0:00  ...      512QAM         1         0\n",
              "180309      181423  NEC  12/31/2019 0:00  ...     2048QAM         1         0\n",
              "\n",
              "[180310 rows x 26 columns]"
            ]
          },
          "metadata": {
            "tags": []
          },
          "execution_count": 10
        }
      ]
    },
    {
      "cell_type": "code",
      "metadata": {
        "id": "ZbLN7YzJFB6q",
        "outputId": "1e166fbb-7699-41d0-fe0c-47922313ff91",
        "colab": {
          "base_uri": "https://localhost:8080/",
          "height": 279
        }
      },
      "source": [
        "df3.plot(x='rxlevmax', y='rlf_False', style='o')\n",
        "#plt.title('Hours vs Percentage')\n",
        "#plt.xlabel('Hours Studied')\n",
        "#plt.ylabel('Percentage Score')\n",
        "plt.show()"
      ],
      "execution_count": null,
      "outputs": [
        {
          "output_type": "display_data",
          "data": {
            "image/png": "[encoded data removed]",
            "text/plain": [
              "<Figure size 432x288 with 1 Axes>"
            ]
          },
          "metadata": {
            "tags": [],
            "needs_background": "light"
          }
        }
      ]
    },
    {
      "cell_type": "code",
      "metadata": {
        "id": "Vnm4_LAtF_RG",
        "outputId": "8c7a2dea-5452-4e71-e828-27c0073602c5",
        "colab": {
          "base_uri": "https://localhost:8080/",
          "height": 279
        }
      },
      "source": [
        "df3.plot(x='rxlevmax', y='rlf_True', style='o')\n",
        "#plt.title('Hours vs Percentage')\n",
        "#plt.xlabel('Hours Studied')\n",
        "#plt.ylabel('Percentage Score')\n",
        "plt.show()"
      ],
      "execution_count": null,
      "outputs": [
        {
          "output_type": "display_data",
          "data": {
            "image/png": "[encoded data removed]",
            "text/plain": [
              "<Figure size 432x288 with 1 Axes>"
            ]
          },
          "metadata": {
            "tags": [],
            "needs_background": "light"
          }
        }
      ]
    },
    {
      "cell_type": "code",
      "metadata": {
        "id": "2n2DpHQnKvZh",
        "outputId": "18019584-d356-4ad2-9693-6fe38f535be4",
        "colab": {
          "base_uri": "https://localhost:8080/",
          "height": 297
        }
      },
      "source": [
        "df3.plot(x='bbe', y='rlf_True', style='o')"
      ],
      "execution_count": null,
      "outputs": [
        {
          "output_type": "execute_result",
          "data": {
            "text/plain": [
              "<matplotlib.axes._subplots.AxesSubplot at 0x7f17d937f4e0>"
            ]
          },
          "metadata": {
            "tags": []
          },
          "execution_count": 20
        },
        {
          "output_type": "display_data",
          "data": {
            "image/png": "[encoded data removed]",
            "text/plain": [
              "<Figure size 432x288 with 1 Axes>"
            ]
          },
          "metadata": {
            "tags": [],
            "needs_background": "light"
          }
        }
      ]
    },
    {
      "cell_type": "code",
      "metadata": {
        "id": "I5rlFcAmDz51",
        "outputId": "b16e22d4-65fc-4dc0-dad8-0a82fe90c6c8",
        "colab": {
          "base_uri": "https://localhost:8080/"
        }
      },
      "source": [
        "f =df3['rlf_True'].sum()\n",
        "f"
      ],
      "execution_count": null,
      "outputs": [
        {
          "output_type": "execute_result",
          "data": {
            "text/plain": [
              "611"
            ]
          },
          "metadata": {
            "tags": []
          },
          "execution_count": 21
        }
      ]
    },
    {
      "cell_type": "code",
      "metadata": {
        "id": "Z15p9tNhfoAx",
        "outputId": "bb93540e-79c6-4501-df66-3bead3b42eea",
        "colab": {
          "base_uri": "https://localhost:8080/"
        }
      },
      "source": [
        "p = df3['rlf_False'].sum()\n",
        "p"
      ],
      "execution_count": null,
      "outputs": [
        {
          "output_type": "execute_result",
          "data": {
            "text/plain": [
              "179699"
            ]
          },
          "metadata": {
            "tags": []
          },
          "execution_count": 22
        }
      ]
    },
    {
      "cell_type": "code",
      "metadata": {
        "id": "XWa_mY3Wf5Xg",
        "outputId": "c55729cf-7f3d-40ce-8d36-b11d428c9f62",
        "colab": {
          "base_uri": "https://localhost:8080/"
        }
      },
      "source": [
        "f/(f+p)*100"
      ],
      "execution_count": null,
      "outputs": [
        {
          "output_type": "execute_result",
          "data": {
            "text/plain": [
              "0.33886085075702954"
            ]
          },
          "metadata": {
            "tags": []
          },
          "execution_count": 23
        }
      ]
    },
    {
      "cell_type": "code",
      "metadata": {
        "id": "d_ZI6Z_CfrsG"
      },
      "source": [
        ""
      ],
      "execution_count": null,
      "outputs": []
    },
    {
      "cell_type": "code",
      "metadata": {
        "id": "licKdTrcEhf9"
      },
      "source": [
        "# subset to failed data set (611 rows) - and check for correlations "
      ],
      "execution_count": null,
      "outputs": []
    },
    {
      "cell_type": "code",
      "metadata": {
        "id": "VWvQChBYFtAA"
      },
      "source": [
        "test = df3[df3[\"rlf_True\"] >= 1]"
      ],
      "execution_count": null,
      "outputs": []
    },
    {
      "cell_type": "code",
      "metadata": {
        "id": "w1SadwzLGDDD",
        "outputId": "84828b70-07d4-4c27-e84b-974045b52776",
        "colab": {
          "base_uri": "https://localhost:8080/",
          "height": 635
        }
      },
      "source": [
        "test"
      ],
      "execution_count": null,
      "outputs": [
        {
          "output_type": "execute_result",
          "data": {
            "text/html": [
              "<div>\n",
              "<style scoped>\n",
              "    .dataframe tbody tr th:only-of-type {\n",
              "        vertical-align: middle;\n",
              "    }\n",
              "\n",
              "    .dataframe tbody tr th {\n",
              "        vertical-align: top;\n",
              "    }\n",
              "\n",
              "    .dataframe thead th {\n",
              "        text-align: right;\n",
              "    }\n",
              "</style>\n",
              "<table border=\"1\" class=\"dataframe\">\n",
              "  <thead>\n",
              "    <tr style=\"text-align: right;\">\n",
              "      <th></th>\n",
              "      <th>Unnamed: 0</th>\n",
              "      <th>type</th>\n",
              "      <th>datetime</th>\n",
              "      <th>tip</th>\n",
              "      <th>mlid</th>\n",
              "      <th>mw_connection_no</th>\n",
              "      <th>site_no</th>\n",
              "      <th>site_id</th>\n",
              "      <th>neid</th>\n",
              "      <th>direction</th>\n",
              "      <th>polarization</th>\n",
              "      <th>card_type</th>\n",
              "      <th>adaptive_modulation</th>\n",
              "      <th>freq_band</th>\n",
              "      <th>link_length</th>\n",
              "      <th>severaly_error_second</th>\n",
              "      <th>error_second</th>\n",
              "      <th>unavail_second</th>\n",
              "      <th>avail_time</th>\n",
              "      <th>bbe</th>\n",
              "      <th>rxlevmax</th>\n",
              "      <th>scalibility_score</th>\n",
              "      <th>capacity</th>\n",
              "      <th>modulation</th>\n",
              "      <th>rlf_False</th>\n",
              "      <th>rlf_True</th>\n",
              "    </tr>\n",
              "  </thead>\n",
              "  <tbody>\n",
              "    <tr>\n",
              "      <th>536</th>\n",
              "      <td>1650</td>\n",
              "      <td>ENK</td>\n",
              "      <td>1/2/2019 0:00</td>\n",
              "      <td>NEAR</td>\n",
              "      <td>K3DA</td>\n",
              "      <td>310109</td>\n",
              "      <td>61602</td>\n",
              "      <td>RL_JEC?P</td>\n",
              "      <td>NaN</td>\n",
              "      <td>NaN</td>\n",
              "      <td>NaN</td>\n",
              "      <td>cardtype2</td>\n",
              "      <td>Disable</td>\n",
              "      <td>f3</td>\n",
              "      <td>NaN</td>\n",
              "      <td>1</td>\n",
              "      <td>79</td>\n",
              "      <td>3158</td>\n",
              "      <td>83242</td>\n",
              "      <td>4691</td>\n",
              "      <td>-39.8</td>\n",
              "      <td>NaN</td>\n",
              "      <td>91</td>\n",
              "      <td>16QAM</td>\n",
              "      <td>0</td>\n",
              "      <td>1</td>\n",
              "    </tr>\n",
              "    <tr>\n",
              "      <th>554</th>\n",
              "      <td>1668</td>\n",
              "      <td>ENK</td>\n",
              "      <td>1/3/2019 0:00</td>\n",
              "      <td>FAR</td>\n",
              "      <td>K7AJ</td>\n",
              "      <td>306647</td>\n",
              "      <td>99127</td>\n",
              "      <td>RL_IASMP</td>\n",
              "      <td>NaN</td>\n",
              "      <td>NaN</td>\n",
              "      <td>NaN</td>\n",
              "      <td>cardtype2</td>\n",
              "      <td>Disable</td>\n",
              "      <td>f3</td>\n",
              "      <td>NaN</td>\n",
              "      <td>2</td>\n",
              "      <td>10</td>\n",
              "      <td>433</td>\n",
              "      <td>85967</td>\n",
              "      <td>834</td>\n",
              "      <td>-39.5</td>\n",
              "      <td>NaN</td>\n",
              "      <td>154</td>\n",
              "      <td>128QAM</td>\n",
              "      <td>0</td>\n",
              "      <td>1</td>\n",
              "    </tr>\n",
              "    <tr>\n",
              "      <th>590</th>\n",
              "      <td>1704</td>\n",
              "      <td>ENK</td>\n",
              "      <td>1/3/2019 0:00</td>\n",
              "      <td>NEAR</td>\n",
              "      <td>K3VD</td>\n",
              "      <td>161506</td>\n",
              "      <td>88940</td>\n",
              "      <td>RL_O;SB&gt;</td>\n",
              "      <td>NaN</td>\n",
              "      <td>NaN</td>\n",
              "      <td>NaN</td>\n",
              "      <td>cardtype2</td>\n",
              "      <td>Enable</td>\n",
              "      <td>f3</td>\n",
              "      <td>NaN</td>\n",
              "      <td>0</td>\n",
              "      <td>18</td>\n",
              "      <td>193</td>\n",
              "      <td>86207</td>\n",
              "      <td>1680</td>\n",
              "      <td>-48.2</td>\n",
              "      <td>NaN</td>\n",
              "      <td>95</td>\n",
              "      <td>16QAM</td>\n",
              "      <td>0</td>\n",
              "      <td>1</td>\n",
              "    </tr>\n",
              "    <tr>\n",
              "      <th>646</th>\n",
              "      <td>1760</td>\n",
              "      <td>ENK</td>\n",
              "      <td>1/3/2019 0:00</td>\n",
              "      <td>FAR</td>\n",
              "      <td>J9YZ</td>\n",
              "      <td>280856</td>\n",
              "      <td>18235</td>\n",
              "      <td>RL_[ELER</td>\n",
              "      <td>5059.0</td>\n",
              "      <td>Near End</td>\n",
              "      <td>NaN</td>\n",
              "      <td>cardtype4</td>\n",
              "      <td>Enable</td>\n",
              "      <td>f3</td>\n",
              "      <td>NaN</td>\n",
              "      <td>0</td>\n",
              "      <td>2</td>\n",
              "      <td>129</td>\n",
              "      <td>86271</td>\n",
              "      <td>219</td>\n",
              "      <td>-41.0</td>\n",
              "      <td>0</td>\n",
              "      <td>154</td>\n",
              "      <td>128QAM</td>\n",
              "      <td>0</td>\n",
              "      <td>1</td>\n",
              "    </tr>\n",
              "    <tr>\n",
              "      <th>1000</th>\n",
              "      <td>2114</td>\n",
              "      <td>ENK</td>\n",
              "      <td>1/3/2019 0:00</td>\n",
              "      <td>FAR</td>\n",
              "      <td>K7BM</td>\n",
              "      <td>310098</td>\n",
              "      <td>40658</td>\n",
              "      <td>RL_L?E?H</td>\n",
              "      <td>NaN</td>\n",
              "      <td>NaN</td>\n",
              "      <td>NaN</td>\n",
              "      <td>cardtype2</td>\n",
              "      <td>Enable</td>\n",
              "      <td>f3</td>\n",
              "      <td>NaN</td>\n",
              "      <td>0</td>\n",
              "      <td>10</td>\n",
              "      <td>161</td>\n",
              "      <td>86239</td>\n",
              "      <td>392</td>\n",
              "      <td>-45.7</td>\n",
              "      <td>NaN</td>\n",
              "      <td>154</td>\n",
              "      <td>128QAM</td>\n",
              "      <td>0</td>\n",
              "      <td>1</td>\n",
              "    </tr>\n",
              "    <tr>\n",
              "      <th>...</th>\n",
              "      <td>...</td>\n",
              "      <td>...</td>\n",
              "      <td>...</td>\n",
              "      <td>...</td>\n",
              "      <td>...</td>\n",
              "      <td>...</td>\n",
              "      <td>...</td>\n",
              "      <td>...</td>\n",
              "      <td>...</td>\n",
              "      <td>...</td>\n",
              "      <td>...</td>\n",
              "      <td>...</td>\n",
              "      <td>...</td>\n",
              "      <td>...</td>\n",
              "      <td>...</td>\n",
              "      <td>...</td>\n",
              "      <td>...</td>\n",
              "      <td>...</td>\n",
              "      <td>...</td>\n",
              "      <td>...</td>\n",
              "      <td>...</td>\n",
              "      <td>...</td>\n",
              "      <td>...</td>\n",
              "      <td>...</td>\n",
              "      <td>...</td>\n",
              "      <td>...</td>\n",
              "    </tr>\n",
              "    <tr>\n",
              "      <th>175966</th>\n",
              "      <td>177080</td>\n",
              "      <td>NEC</td>\n",
              "      <td>12/24/2019 0:00</td>\n",
              "      <td>FAR</td>\n",
              "      <td>K7DC</td>\n",
              "      <td>1366646</td>\n",
              "      <td>80156</td>\n",
              "      <td>RL_SKTEO</td>\n",
              "      <td>NaN</td>\n",
              "      <td>NaN</td>\n",
              "      <td>Horizontal</td>\n",
              "      <td>cardtype5</td>\n",
              "      <td>Enable</td>\n",
              "      <td>f3</td>\n",
              "      <td>6638.0</td>\n",
              "      <td>1</td>\n",
              "      <td>8</td>\n",
              "      <td>166</td>\n",
              "      <td>86400</td>\n",
              "      <td>369</td>\n",
              "      <td>-42.5</td>\n",
              "      <td>NaN</td>\n",
              "      <td>158</td>\n",
              "      <td>128QAM</td>\n",
              "      <td>0</td>\n",
              "      <td>1</td>\n",
              "    </tr>\n",
              "    <tr>\n",
              "      <th>175973</th>\n",
              "      <td>177087</td>\n",
              "      <td>NEC</td>\n",
              "      <td>12/24/2019 0:00</td>\n",
              "      <td>NEAR</td>\n",
              "      <td>K7CD</td>\n",
              "      <td>1366646</td>\n",
              "      <td>62702</td>\n",
              "      <td>RL_[MEQ1</td>\n",
              "      <td>NaN</td>\n",
              "      <td>NaN</td>\n",
              "      <td>Horizontal</td>\n",
              "      <td>cardtype5</td>\n",
              "      <td>Enable</td>\n",
              "      <td>f3</td>\n",
              "      <td>6638.0</td>\n",
              "      <td>10</td>\n",
              "      <td>17</td>\n",
              "      <td>190</td>\n",
              "      <td>86400</td>\n",
              "      <td>545</td>\n",
              "      <td>-41.7</td>\n",
              "      <td>NaN</td>\n",
              "      <td>158</td>\n",
              "      <td>128QAM</td>\n",
              "      <td>0</td>\n",
              "      <td>1</td>\n",
              "    </tr>\n",
              "    <tr>\n",
              "      <th>177671</th>\n",
              "      <td>178785</td>\n",
              "      <td>NEC</td>\n",
              "      <td>12/27/2019 0:00</td>\n",
              "      <td>FAR</td>\n",
              "      <td>K7IC</td>\n",
              "      <td>328406</td>\n",
              "      <td>29095</td>\n",
              "      <td>RL_[7IR@</td>\n",
              "      <td>NaN</td>\n",
              "      <td>NaN</td>\n",
              "      <td>Vertical</td>\n",
              "      <td>cardtype5</td>\n",
              "      <td>Enable</td>\n",
              "      <td>f4</td>\n",
              "      <td>471.0</td>\n",
              "      <td>0</td>\n",
              "      <td>1</td>\n",
              "      <td>63768</td>\n",
              "      <td>86400</td>\n",
              "      <td>788</td>\n",
              "      <td>-26.9</td>\n",
              "      <td>NaN</td>\n",
              "      <td>318</td>\n",
              "      <td>128QAM</td>\n",
              "      <td>0</td>\n",
              "      <td>1</td>\n",
              "    </tr>\n",
              "    <tr>\n",
              "      <th>178867</th>\n",
              "      <td>179981</td>\n",
              "      <td>ENK</td>\n",
              "      <td>12/29/2019 0:00</td>\n",
              "      <td>FAR</td>\n",
              "      <td>K7SX</td>\n",
              "      <td>294771</td>\n",
              "      <td>10936</td>\n",
              "      <td>RL_SKTKB</td>\n",
              "      <td>NaN</td>\n",
              "      <td>NaN</td>\n",
              "      <td>Vertical</td>\n",
              "      <td>cardtype2</td>\n",
              "      <td>Disable</td>\n",
              "      <td>f5</td>\n",
              "      <td>208.0</td>\n",
              "      <td>0</td>\n",
              "      <td>1</td>\n",
              "      <td>7581</td>\n",
              "      <td>78819</td>\n",
              "      <td>177</td>\n",
              "      <td>-92.2</td>\n",
              "      <td>NaN</td>\n",
              "      <td>154</td>\n",
              "      <td>128QAM</td>\n",
              "      <td>0</td>\n",
              "      <td>1</td>\n",
              "    </tr>\n",
              "    <tr>\n",
              "      <th>179257</th>\n",
              "      <td>180371</td>\n",
              "      <td>NEC</td>\n",
              "      <td>12/30/2019 0:00</td>\n",
              "      <td>FAR</td>\n",
              "      <td>K7IC</td>\n",
              "      <td>328406</td>\n",
              "      <td>29095</td>\n",
              "      <td>RL_[7IR@</td>\n",
              "      <td>NaN</td>\n",
              "      <td>NaN</td>\n",
              "      <td>Vertical</td>\n",
              "      <td>cardtype5</td>\n",
              "      <td>Enable</td>\n",
              "      <td>f4</td>\n",
              "      <td>471.0</td>\n",
              "      <td>0</td>\n",
              "      <td>1</td>\n",
              "      <td>70205</td>\n",
              "      <td>86400</td>\n",
              "      <td>4819</td>\n",
              "      <td>-26.9</td>\n",
              "      <td>NaN</td>\n",
              "      <td>318</td>\n",
              "      <td>128QAM</td>\n",
              "      <td>0</td>\n",
              "      <td>1</td>\n",
              "    </tr>\n",
              "  </tbody>\n",
              "</table>\n",
              "<p>611 rows × 26 columns</p>\n",
              "</div>"
            ],
            "text/plain": [
              "        Unnamed: 0 type         datetime  ... modulation rlf_False  rlf_True\n",
              "536           1650  ENK    1/2/2019 0:00  ...      16QAM         0         1\n",
              "554           1668  ENK    1/3/2019 0:00  ...     128QAM         0         1\n",
              "590           1704  ENK    1/3/2019 0:00  ...      16QAM         0         1\n",
              "646           1760  ENK    1/3/2019 0:00  ...     128QAM         0         1\n",
              "1000          2114  ENK    1/3/2019 0:00  ...     128QAM         0         1\n",
              "...            ...  ...              ...  ...        ...       ...       ...\n",
              "175966      177080  NEC  12/24/2019 0:00  ...     128QAM         0         1\n",
              "175973      177087  NEC  12/24/2019 0:00  ...     128QAM         0         1\n",
              "177671      178785  NEC  12/27/2019 0:00  ...     128QAM         0         1\n",
              "178867      179981  ENK  12/29/2019 0:00  ...     128QAM         0         1\n",
              "179257      180371  NEC  12/30/2019 0:00  ...     128QAM         0         1\n",
              "\n",
              "[611 rows x 26 columns]"
            ]
          },
          "metadata": {
            "tags": []
          },
          "execution_count": 25
        }
      ]
    },
    {
      "cell_type": "code",
      "metadata": {
        "id": "fTL9X4kqEIM3",
        "outputId": "637d8a67-6aed-46ca-aec7-18c7d448bdd4",
        "colab": {
          "base_uri": "https://localhost:8080/",
          "height": 383
        }
      },
      "source": [
        "#tips = sns.load_dataset(\"df3\")\n",
        "sns.relplot(x=\"capacity\", y=\"rxlevmax\", data=df3);"
      ],
      "execution_count": null,
      "outputs": [
        {
          "output_type": "display_data",
          "data": {
            "image/png": "[encoded data removed]",
            "text/plain": [
              "<Figure size 360x360 with 1 Axes>"
            ]
          },
          "metadata": {
            "tags": [],
            "needs_background": "light"
          }
        }
      ]
    },
    {
      "cell_type": "code",
      "metadata": {
        "id": "5LxLRkPSEvZC",
        "outputId": "f9149198-044c-44d3-c652-5e0a65b14463",
        "colab": {
          "base_uri": "https://localhost:8080/",
          "height": 383
        }
      },
      "source": [
        "sns.relplot(x=\"rxlevmax\", y=\"capacity\", data=df3);"
      ],
      "execution_count": null,
      "outputs": [
        {
          "output_type": "display_data",
          "data": {
            "image/png": "[encoded data removed]",
            "text/plain": [
              "<Figure size 360x360 with 1 Axes>"
            ]
          },
          "metadata": {
            "tags": [],
            "needs_background": "light"
          }
        }
      ]
    },
    {
      "cell_type": "code",
      "metadata": {
        "id": "qnbvheSfEryp",
        "outputId": "3d58058d-2025-4fea-8010-0b5e1b66ad61",
        "colab": {
          "base_uri": "https://localhost:8080/",
          "height": 383
        }
      },
      "source": [
        "sns.relplot(x=\"capacity\", y=\"rxlevmax\", hue=\"modulation\", data=df3);"
      ],
      "execution_count": null,
      "outputs": [
        {
          "output_type": "display_data",
          "data": {
            "image/png": "[encoded data removed]",
            "text/plain": [
              "<Figure size 461.625x360 with 1 Axes>"
            ]
          },
          "metadata": {
            "tags": [],
            "needs_background": "light"
          }
        }
      ]
    },
    {
      "cell_type": "code",
      "metadata": {
        "id": "bBYsISVVr7Ac"
      },
      "source": [
        "df4 = pd.get_dummies(df3, columns=['card_type'])\n",
        "df5 = pd.get_dummies(df4, columns=['adaptive_modulation'])\n",
        "df6 = pd.get_dummies(df5, columns=['freq_band'])\n",
        "df7 = pd.get_dummies(df6, columns=['modulation'])\n",
        "\n"
      ],
      "execution_count": null,
      "outputs": []
    },
    {
      "cell_type": "code",
      "metadata": {
        "id": "Bx4B7PXFsggw",
        "outputId": "73125bac-0297-4df4-ad81-9944c63b122b",
        "colab": {
          "base_uri": "https://localhost:8080/",
          "height": 635
        }
      },
      "source": [
        "df7"
      ],
      "execution_count": null,
      "outputs": [
        {
          "output_type": "execute_result",
          "data": {
            "text/html": [
              "<div>\n",
              "<style scoped>\n",
              "    .dataframe tbody tr th:only-of-type {\n",
              "        vertical-align: middle;\n",
              "    }\n",
              "\n",
              "    .dataframe tbody tr th {\n",
              "        vertical-align: top;\n",
              "    }\n",
              "\n",
              "    .dataframe thead th {\n",
              "        text-align: right;\n",
              "    }\n",
              "</style>\n",
              "<table border=\"1\" class=\"dataframe\">\n",
              "  <thead>\n",
              "    <tr style=\"text-align: right;\">\n",
              "      <th></th>\n",
              "      <th>Unnamed: 0</th>\n",
              "      <th>type</th>\n",
              "      <th>datetime</th>\n",
              "      <th>tip</th>\n",
              "      <th>mlid</th>\n",
              "      <th>mw_connection_no</th>\n",
              "      <th>site_no</th>\n",
              "      <th>site_id</th>\n",
              "      <th>neid</th>\n",
              "      <th>direction</th>\n",
              "      <th>polarization</th>\n",
              "      <th>link_length</th>\n",
              "      <th>severaly_error_second</th>\n",
              "      <th>error_second</th>\n",
              "      <th>unavail_second</th>\n",
              "      <th>avail_time</th>\n",
              "      <th>bbe</th>\n",
              "      <th>rxlevmax</th>\n",
              "      <th>scalibility_score</th>\n",
              "      <th>capacity</th>\n",
              "      <th>rlf_False</th>\n",
              "      <th>rlf_True</th>\n",
              "      <th>card_type_cardtype1</th>\n",
              "      <th>card_type_cardtype2</th>\n",
              "      <th>card_type_cardtype3</th>\n",
              "      <th>card_type_cardtype4</th>\n",
              "      <th>card_type_cardtype5</th>\n",
              "      <th>adaptive_modulation_Disable</th>\n",
              "      <th>adaptive_modulation_Enable</th>\n",
              "      <th>freq_band_f1</th>\n",
              "      <th>freq_band_f2</th>\n",
              "      <th>freq_band_f3</th>\n",
              "      <th>freq_band_f4</th>\n",
              "      <th>freq_band_f5</th>\n",
              "      <th>modulation_1024 QAM</th>\n",
              "      <th>modulation_1024QAM</th>\n",
              "      <th>modulation_128QAM</th>\n",
              "      <th>modulation_128QAM(Q)</th>\n",
              "      <th>modulation_16QAM</th>\n",
              "      <th>modulation_2048QAM</th>\n",
              "      <th>modulation_2048QAM*</th>\n",
              "      <th>modulation_256QAM</th>\n",
              "      <th>modulation_256QAM(Q)</th>\n",
              "      <th>modulation_512QAM</th>\n",
              "      <th>modulation_512QAM(QO)</th>\n",
              "      <th>modulation_64QAM</th>\n",
              "      <th>modulation_C-QPSK</th>\n",
              "    </tr>\n",
              "  </thead>\n",
              "  <tbody>\n",
              "    <tr>\n",
              "      <th>0</th>\n",
              "      <td>1114</td>\n",
              "      <td>ENK</td>\n",
              "      <td>1/2/2019 0:00</td>\n",
              "      <td>NEAR</td>\n",
              "      <td>K7JW</td>\n",
              "      <td>198755</td>\n",
              "      <td>17438</td>\n",
              "      <td>RL_SKG?K</td>\n",
              "      <td>8713.0</td>\n",
              "      <td>Near End</td>\n",
              "      <td>NaN</td>\n",
              "      <td>NaN</td>\n",
              "      <td>0</td>\n",
              "      <td>0</td>\n",
              "      <td>0</td>\n",
              "      <td>86400</td>\n",
              "      <td>0</td>\n",
              "      <td>-39.5</td>\n",
              "      <td>0</td>\n",
              "      <td>200</td>\n",
              "      <td>1</td>\n",
              "      <td>0</td>\n",
              "      <td>1</td>\n",
              "      <td>0</td>\n",
              "      <td>0</td>\n",
              "      <td>0</td>\n",
              "      <td>0</td>\n",
              "      <td>0</td>\n",
              "      <td>1</td>\n",
              "      <td>0</td>\n",
              "      <td>0</td>\n",
              "      <td>1</td>\n",
              "      <td>0</td>\n",
              "      <td>0</td>\n",
              "      <td>0</td>\n",
              "      <td>0</td>\n",
              "      <td>0</td>\n",
              "      <td>0</td>\n",
              "      <td>0</td>\n",
              "      <td>0</td>\n",
              "      <td>0</td>\n",
              "      <td>0</td>\n",
              "      <td>0</td>\n",
              "      <td>1</td>\n",
              "      <td>0</td>\n",
              "      <td>0</td>\n",
              "      <td>0</td>\n",
              "    </tr>\n",
              "    <tr>\n",
              "      <th>1</th>\n",
              "      <td>1115</td>\n",
              "      <td>ENK</td>\n",
              "      <td>1/2/2019 0:00</td>\n",
              "      <td>NEAR</td>\n",
              "      <td>K7CX</td>\n",
              "      <td>242760</td>\n",
              "      <td>5006</td>\n",
              "      <td>RL_SKLGO</td>\n",
              "      <td>NaN</td>\n",
              "      <td>NaN</td>\n",
              "      <td>NaN</td>\n",
              "      <td>NaN</td>\n",
              "      <td>0</td>\n",
              "      <td>0</td>\n",
              "      <td>0</td>\n",
              "      <td>86400</td>\n",
              "      <td>0</td>\n",
              "      <td>-44.2</td>\n",
              "      <td>NaN</td>\n",
              "      <td>417</td>\n",
              "      <td>1</td>\n",
              "      <td>0</td>\n",
              "      <td>1</td>\n",
              "      <td>0</td>\n",
              "      <td>0</td>\n",
              "      <td>0</td>\n",
              "      <td>0</td>\n",
              "      <td>0</td>\n",
              "      <td>1</td>\n",
              "      <td>0</td>\n",
              "      <td>0</td>\n",
              "      <td>1</td>\n",
              "      <td>0</td>\n",
              "      <td>0</td>\n",
              "      <td>0</td>\n",
              "      <td>0</td>\n",
              "      <td>0</td>\n",
              "      <td>0</td>\n",
              "      <td>0</td>\n",
              "      <td>0</td>\n",
              "      <td>0</td>\n",
              "      <td>0</td>\n",
              "      <td>0</td>\n",
              "      <td>0</td>\n",
              "      <td>1</td>\n",
              "      <td>0</td>\n",
              "      <td>0</td>\n",
              "    </tr>\n",
              "    <tr>\n",
              "      <th>2</th>\n",
              "      <td>1116</td>\n",
              "      <td>ENK</td>\n",
              "      <td>1/2/2019 0:00</td>\n",
              "      <td>NEAR</td>\n",
              "      <td>K7WG</td>\n",
              "      <td>163457</td>\n",
              "      <td>60081</td>\n",
              "      <td>RL_L?EKP</td>\n",
              "      <td>5159.0</td>\n",
              "      <td>Near End</td>\n",
              "      <td>NaN</td>\n",
              "      <td>NaN</td>\n",
              "      <td>0</td>\n",
              "      <td>0</td>\n",
              "      <td>0</td>\n",
              "      <td>86400</td>\n",
              "      <td>0</td>\n",
              "      <td>-39.8</td>\n",
              "      <td>0</td>\n",
              "      <td>406</td>\n",
              "      <td>1</td>\n",
              "      <td>0</td>\n",
              "      <td>0</td>\n",
              "      <td>0</td>\n",
              "      <td>0</td>\n",
              "      <td>1</td>\n",
              "      <td>0</td>\n",
              "      <td>0</td>\n",
              "      <td>1</td>\n",
              "      <td>0</td>\n",
              "      <td>0</td>\n",
              "      <td>1</td>\n",
              "      <td>0</td>\n",
              "      <td>0</td>\n",
              "      <td>0</td>\n",
              "      <td>0</td>\n",
              "      <td>0</td>\n",
              "      <td>0</td>\n",
              "      <td>0</td>\n",
              "      <td>0</td>\n",
              "      <td>0</td>\n",
              "      <td>0</td>\n",
              "      <td>0</td>\n",
              "      <td>1</td>\n",
              "      <td>0</td>\n",
              "      <td>0</td>\n",
              "      <td>0</td>\n",
              "    </tr>\n",
              "    <tr>\n",
              "      <th>3</th>\n",
              "      <td>1117</td>\n",
              "      <td>ENK</td>\n",
              "      <td>1/2/2019 0:00</td>\n",
              "      <td>FAR</td>\n",
              "      <td>K7DZ</td>\n",
              "      <td>149188</td>\n",
              "      <td>10924</td>\n",
              "      <td>RL_[EMCB</td>\n",
              "      <td>NaN</td>\n",
              "      <td>NaN</td>\n",
              "      <td>NaN</td>\n",
              "      <td>NaN</td>\n",
              "      <td>0</td>\n",
              "      <td>36</td>\n",
              "      <td>0</td>\n",
              "      <td>36900</td>\n",
              "      <td>81</td>\n",
              "      <td>-40.1</td>\n",
              "      <td>NaN</td>\n",
              "      <td>200</td>\n",
              "      <td>1</td>\n",
              "      <td>0</td>\n",
              "      <td>1</td>\n",
              "      <td>0</td>\n",
              "      <td>0</td>\n",
              "      <td>0</td>\n",
              "      <td>0</td>\n",
              "      <td>0</td>\n",
              "      <td>1</td>\n",
              "      <td>0</td>\n",
              "      <td>1</td>\n",
              "      <td>0</td>\n",
              "      <td>0</td>\n",
              "      <td>0</td>\n",
              "      <td>0</td>\n",
              "      <td>0</td>\n",
              "      <td>0</td>\n",
              "      <td>0</td>\n",
              "      <td>0</td>\n",
              "      <td>0</td>\n",
              "      <td>0</td>\n",
              "      <td>0</td>\n",
              "      <td>0</td>\n",
              "      <td>1</td>\n",
              "      <td>0</td>\n",
              "      <td>0</td>\n",
              "      <td>0</td>\n",
              "    </tr>\n",
              "    <tr>\n",
              "      <th>4</th>\n",
              "      <td>1118</td>\n",
              "      <td>NEC</td>\n",
              "      <td>1/2/2019 0:00</td>\n",
              "      <td>FAR</td>\n",
              "      <td>K7QE</td>\n",
              "      <td>325083</td>\n",
              "      <td>10936</td>\n",
              "      <td>RL_SKTKB</td>\n",
              "      <td>NaN</td>\n",
              "      <td>NaN</td>\n",
              "      <td>NaN</td>\n",
              "      <td>NaN</td>\n",
              "      <td>0</td>\n",
              "      <td>0</td>\n",
              "      <td>0</td>\n",
              "      <td>86400</td>\n",
              "      <td>0</td>\n",
              "      <td>-32.8</td>\n",
              "      <td>NaN</td>\n",
              "      <td>257</td>\n",
              "      <td>1</td>\n",
              "      <td>0</td>\n",
              "      <td>0</td>\n",
              "      <td>0</td>\n",
              "      <td>0</td>\n",
              "      <td>0</td>\n",
              "      <td>1</td>\n",
              "      <td>0</td>\n",
              "      <td>1</td>\n",
              "      <td>0</td>\n",
              "      <td>0</td>\n",
              "      <td>0</td>\n",
              "      <td>0</td>\n",
              "      <td>1</td>\n",
              "      <td>0</td>\n",
              "      <td>0</td>\n",
              "      <td>0</td>\n",
              "      <td>0</td>\n",
              "      <td>0</td>\n",
              "      <td>0</td>\n",
              "      <td>0</td>\n",
              "      <td>0</td>\n",
              "      <td>0</td>\n",
              "      <td>1</td>\n",
              "      <td>0</td>\n",
              "      <td>0</td>\n",
              "      <td>0</td>\n",
              "    </tr>\n",
              "    <tr>\n",
              "      <th>...</th>\n",
              "      <td>...</td>\n",
              "      <td>...</td>\n",
              "      <td>...</td>\n",
              "      <td>...</td>\n",
              "      <td>...</td>\n",
              "      <td>...</td>\n",
              "      <td>...</td>\n",
              "      <td>...</td>\n",
              "      <td>...</td>\n",
              "      <td>...</td>\n",
              "      <td>...</td>\n",
              "      <td>...</td>\n",
              "      <td>...</td>\n",
              "      <td>...</td>\n",
              "      <td>...</td>\n",
              "      <td>...</td>\n",
              "      <td>...</td>\n",
              "      <td>...</td>\n",
              "      <td>...</td>\n",
              "      <td>...</td>\n",
              "      <td>...</td>\n",
              "      <td>...</td>\n",
              "      <td>...</td>\n",
              "      <td>...</td>\n",
              "      <td>...</td>\n",
              "      <td>...</td>\n",
              "      <td>...</td>\n",
              "      <td>...</td>\n",
              "      <td>...</td>\n",
              "      <td>...</td>\n",
              "      <td>...</td>\n",
              "      <td>...</td>\n",
              "      <td>...</td>\n",
              "      <td>...</td>\n",
              "      <td>...</td>\n",
              "      <td>...</td>\n",
              "      <td>...</td>\n",
              "      <td>...</td>\n",
              "      <td>...</td>\n",
              "      <td>...</td>\n",
              "      <td>...</td>\n",
              "      <td>...</td>\n",
              "      <td>...</td>\n",
              "      <td>...</td>\n",
              "      <td>...</td>\n",
              "      <td>...</td>\n",
              "      <td>...</td>\n",
              "    </tr>\n",
              "    <tr>\n",
              "      <th>180305</th>\n",
              "      <td>181419</td>\n",
              "      <td>ENK</td>\n",
              "      <td>12/31/2019 0:00</td>\n",
              "      <td>FAR</td>\n",
              "      <td>K3LE</td>\n",
              "      <td>1380331</td>\n",
              "      <td>88604</td>\n",
              "      <td>RL_IOQMI</td>\n",
              "      <td>5224.0</td>\n",
              "      <td>Near End</td>\n",
              "      <td>Vertical</td>\n",
              "      <td>12418.0</td>\n",
              "      <td>0</td>\n",
              "      <td>0</td>\n",
              "      <td>0</td>\n",
              "      <td>86400</td>\n",
              "      <td>0</td>\n",
              "      <td>-47.6</td>\n",
              "      <td>0</td>\n",
              "      <td>203</td>\n",
              "      <td>1</td>\n",
              "      <td>0</td>\n",
              "      <td>0</td>\n",
              "      <td>0</td>\n",
              "      <td>0</td>\n",
              "      <td>1</td>\n",
              "      <td>0</td>\n",
              "      <td>0</td>\n",
              "      <td>1</td>\n",
              "      <td>0</td>\n",
              "      <td>1</td>\n",
              "      <td>0</td>\n",
              "      <td>0</td>\n",
              "      <td>0</td>\n",
              "      <td>0</td>\n",
              "      <td>0</td>\n",
              "      <td>0</td>\n",
              "      <td>0</td>\n",
              "      <td>0</td>\n",
              "      <td>0</td>\n",
              "      <td>0</td>\n",
              "      <td>0</td>\n",
              "      <td>0</td>\n",
              "      <td>1</td>\n",
              "      <td>0</td>\n",
              "      <td>0</td>\n",
              "      <td>0</td>\n",
              "    </tr>\n",
              "    <tr>\n",
              "      <th>180306</th>\n",
              "      <td>181420</td>\n",
              "      <td>NEC</td>\n",
              "      <td>12/31/2019 0:00</td>\n",
              "      <td>FAR</td>\n",
              "      <td>K7LP</td>\n",
              "      <td>1361669</td>\n",
              "      <td>87029</td>\n",
              "      <td>RL_L?WCO</td>\n",
              "      <td>NaN</td>\n",
              "      <td>NaN</td>\n",
              "      <td>Vertical</td>\n",
              "      <td>1032.0</td>\n",
              "      <td>0</td>\n",
              "      <td>0</td>\n",
              "      <td>0</td>\n",
              "      <td>86400</td>\n",
              "      <td>0</td>\n",
              "      <td>-41.0</td>\n",
              "      <td>NaN</td>\n",
              "      <td>318</td>\n",
              "      <td>1</td>\n",
              "      <td>0</td>\n",
              "      <td>0</td>\n",
              "      <td>0</td>\n",
              "      <td>0</td>\n",
              "      <td>0</td>\n",
              "      <td>1</td>\n",
              "      <td>0</td>\n",
              "      <td>1</td>\n",
              "      <td>0</td>\n",
              "      <td>0</td>\n",
              "      <td>0</td>\n",
              "      <td>1</td>\n",
              "      <td>0</td>\n",
              "      <td>0</td>\n",
              "      <td>0</td>\n",
              "      <td>1</td>\n",
              "      <td>0</td>\n",
              "      <td>0</td>\n",
              "      <td>0</td>\n",
              "      <td>0</td>\n",
              "      <td>0</td>\n",
              "      <td>0</td>\n",
              "      <td>0</td>\n",
              "      <td>0</td>\n",
              "      <td>0</td>\n",
              "      <td>0</td>\n",
              "    </tr>\n",
              "    <tr>\n",
              "      <th>180307</th>\n",
              "      <td>181421</td>\n",
              "      <td>NEC</td>\n",
              "      <td>12/31/2019 0:00</td>\n",
              "      <td>FAR</td>\n",
              "      <td>K3XZ</td>\n",
              "      <td>1367838</td>\n",
              "      <td>23726</td>\n",
              "      <td>RL_SETIJ</td>\n",
              "      <td>NaN</td>\n",
              "      <td>NaN</td>\n",
              "      <td>Horizontal</td>\n",
              "      <td>9384.0</td>\n",
              "      <td>0</td>\n",
              "      <td>0</td>\n",
              "      <td>0</td>\n",
              "      <td>86400</td>\n",
              "      <td>0</td>\n",
              "      <td>-45.5</td>\n",
              "      <td>NaN</td>\n",
              "      <td>407</td>\n",
              "      <td>1</td>\n",
              "      <td>0</td>\n",
              "      <td>0</td>\n",
              "      <td>0</td>\n",
              "      <td>0</td>\n",
              "      <td>0</td>\n",
              "      <td>1</td>\n",
              "      <td>0</td>\n",
              "      <td>1</td>\n",
              "      <td>0</td>\n",
              "      <td>0</td>\n",
              "      <td>1</td>\n",
              "      <td>0</td>\n",
              "      <td>0</td>\n",
              "      <td>0</td>\n",
              "      <td>0</td>\n",
              "      <td>0</td>\n",
              "      <td>0</td>\n",
              "      <td>0</td>\n",
              "      <td>0</td>\n",
              "      <td>0</td>\n",
              "      <td>0</td>\n",
              "      <td>0</td>\n",
              "      <td>1</td>\n",
              "      <td>0</td>\n",
              "      <td>0</td>\n",
              "      <td>0</td>\n",
              "    </tr>\n",
              "    <tr>\n",
              "      <th>180308</th>\n",
              "      <td>181422</td>\n",
              "      <td>NEC</td>\n",
              "      <td>12/31/2019 0:00</td>\n",
              "      <td>NEAR</td>\n",
              "      <td>K3CG</td>\n",
              "      <td>1373580</td>\n",
              "      <td>84910</td>\n",
              "      <td>RL_SKUSO</td>\n",
              "      <td>NaN</td>\n",
              "      <td>NaN</td>\n",
              "      <td>Horizontal</td>\n",
              "      <td>1963.0</td>\n",
              "      <td>0</td>\n",
              "      <td>0</td>\n",
              "      <td>0</td>\n",
              "      <td>86400</td>\n",
              "      <td>0</td>\n",
              "      <td>-28.4</td>\n",
              "      <td>NaN</td>\n",
              "      <td>407</td>\n",
              "      <td>1</td>\n",
              "      <td>0</td>\n",
              "      <td>0</td>\n",
              "      <td>0</td>\n",
              "      <td>0</td>\n",
              "      <td>0</td>\n",
              "      <td>1</td>\n",
              "      <td>0</td>\n",
              "      <td>1</td>\n",
              "      <td>0</td>\n",
              "      <td>0</td>\n",
              "      <td>0</td>\n",
              "      <td>1</td>\n",
              "      <td>0</td>\n",
              "      <td>0</td>\n",
              "      <td>0</td>\n",
              "      <td>0</td>\n",
              "      <td>0</td>\n",
              "      <td>0</td>\n",
              "      <td>0</td>\n",
              "      <td>0</td>\n",
              "      <td>0</td>\n",
              "      <td>0</td>\n",
              "      <td>1</td>\n",
              "      <td>0</td>\n",
              "      <td>0</td>\n",
              "      <td>0</td>\n",
              "    </tr>\n",
              "    <tr>\n",
              "      <th>180309</th>\n",
              "      <td>181423</td>\n",
              "      <td>NEC</td>\n",
              "      <td>12/31/2019 0:00</td>\n",
              "      <td>NEAR</td>\n",
              "      <td>K7TG</td>\n",
              "      <td>247011</td>\n",
              "      <td>96965</td>\n",
              "      <td>RL_L?TGQ</td>\n",
              "      <td>NaN</td>\n",
              "      <td>NaN</td>\n",
              "      <td>Vertical</td>\n",
              "      <td>1195.0</td>\n",
              "      <td>0</td>\n",
              "      <td>0</td>\n",
              "      <td>0</td>\n",
              "      <td>86400</td>\n",
              "      <td>0</td>\n",
              "      <td>-39.4</td>\n",
              "      <td>NaN</td>\n",
              "      <td>495</td>\n",
              "      <td>1</td>\n",
              "      <td>0</td>\n",
              "      <td>0</td>\n",
              "      <td>0</td>\n",
              "      <td>0</td>\n",
              "      <td>0</td>\n",
              "      <td>1</td>\n",
              "      <td>0</td>\n",
              "      <td>1</td>\n",
              "      <td>0</td>\n",
              "      <td>0</td>\n",
              "      <td>1</td>\n",
              "      <td>0</td>\n",
              "      <td>0</td>\n",
              "      <td>0</td>\n",
              "      <td>0</td>\n",
              "      <td>0</td>\n",
              "      <td>0</td>\n",
              "      <td>0</td>\n",
              "      <td>1</td>\n",
              "      <td>0</td>\n",
              "      <td>0</td>\n",
              "      <td>0</td>\n",
              "      <td>0</td>\n",
              "      <td>0</td>\n",
              "      <td>0</td>\n",
              "      <td>0</td>\n",
              "    </tr>\n",
              "  </tbody>\n",
              "</table>\n",
              "<p>180310 rows × 47 columns</p>\n",
              "</div>"
            ],
            "text/plain": [
              "        Unnamed: 0 type  ... modulation_64QAM modulation_C-QPSK\n",
              "0             1114  ENK  ...                0                 0\n",
              "1             1115  ENK  ...                0                 0\n",
              "2             1116  ENK  ...                0                 0\n",
              "3             1117  ENK  ...                0                 0\n",
              "4             1118  NEC  ...                0                 0\n",
              "...            ...  ...  ...              ...               ...\n",
              "180305      181419  ENK  ...                0                 0\n",
              "180306      181420  NEC  ...                0                 0\n",
              "180307      181421  NEC  ...                0                 0\n",
              "180308      181422  NEC  ...                0                 0\n",
              "180309      181423  NEC  ...                0                 0\n",
              "\n",
              "[180310 rows x 47 columns]"
            ]
          },
          "metadata": {
            "tags": []
          },
          "execution_count": 11
        }
      ]
    },
    {
      "cell_type": "code",
      "metadata": {
        "id": "Zwn4DoU4uB1w"
      },
      "source": [
        "# create new df\n",
        "df8 = df7.drop(['Unnamed: 0','site_id','site_no','type','datetime','scalibility_score','tip','mlid','mw_connection_no','neid','direction','polarization','link_length','severaly_error_second','error_second'], axis = 1)\n"
      ],
      "execution_count": null,
      "outputs": []
    },
    {
      "cell_type": "code",
      "metadata": {
        "id": "DSHCsL8NvsyO"
      },
      "source": [
        "# df9 = df8.drop(df8.columns[1], axis = 1, inplace = True)"
      ],
      "execution_count": null,
      "outputs": []
    },
    {
      "cell_type": "code",
      "metadata": {
        "id": "SOfnjCp9undl",
        "outputId": "1cea33d2-3256-458b-e40e-6efdeebfc8c7",
        "colab": {
          "base_uri": "https://localhost:8080/",
          "height": 589
        }
      },
      "source": [
        "list(df8.columns) \n"
      ],
      "execution_count": null,
      "outputs": [
        {
          "output_type": "execute_result",
          "data": {
            "text/plain": [
              "['unavail_second',\n",
              " 'avail_time',\n",
              " 'bbe',\n",
              " 'rxlevmax',\n",
              " 'capacity',\n",
              " 'rlf_False',\n",
              " 'rlf_True',\n",
              " 'card_type_cardtype1',\n",
              " 'card_type_cardtype2',\n",
              " 'card_type_cardtype3',\n",
              " 'card_type_cardtype4',\n",
              " 'card_type_cardtype5',\n",
              " 'adaptive_modulation_Disable',\n",
              " 'adaptive_modulation_Enable',\n",
              " 'freq_band_f1',\n",
              " 'freq_band_f2',\n",
              " 'freq_band_f3',\n",
              " 'freq_band_f4',\n",
              " 'freq_band_f5',\n",
              " 'modulation_1024 QAM',\n",
              " 'modulation_1024QAM',\n",
              " 'modulation_128QAM',\n",
              " 'modulation_128QAM(Q)',\n",
              " 'modulation_16QAM',\n",
              " 'modulation_2048QAM',\n",
              " 'modulation_2048QAM*',\n",
              " 'modulation_256QAM',\n",
              " 'modulation_256QAM(Q)',\n",
              " 'modulation_512QAM',\n",
              " 'modulation_512QAM(QO)',\n",
              " 'modulation_64QAM',\n",
              " 'modulation_C-QPSK']"
            ]
          },
          "metadata": {
            "tags": []
          },
          "execution_count": 21
        }
      ]
    },
    {
      "cell_type": "code",
      "metadata": {
        "id": "SLGB6vEx2rOV",
        "outputId": "5e3d281f-9d10-4b4d-98e4-88fdac0823b4",
        "colab": {
          "base_uri": "https://localhost:8080/",
          "height": 231
        }
      },
      "source": [
        "y = df8.iloc[:, 5]\n",
        "y"
      ],
      "execution_count": null,
      "outputs": [
        {
          "output_type": "execute_result",
          "data": {
            "text/plain": [
              "0         1\n",
              "1         1\n",
              "2         1\n",
              "3         1\n",
              "4         1\n",
              "         ..\n",
              "180305    1\n",
              "180306    1\n",
              "180307    1\n",
              "180308    1\n",
              "180309    1\n",
              "Name: rlf_False, Length: 180310, dtype: uint8"
            ]
          },
          "metadata": {
            "tags": []
          },
          "execution_count": 13
        }
      ]
    },
    {
      "cell_type": "code",
      "metadata": {
        "id": "pPn1YuWW1EL-",
        "outputId": "9a03662e-4c24-4428-e14f-04e8288760f7",
        "colab": {
          "base_uri": "https://localhost:8080/",
          "height": 461
        }
      },
      "source": [
        "X = df8.drop(['rlf_True','rlf_False'], axis = 1)\n",
        "X"
      ],
      "execution_count": null,
      "outputs": [
        {
          "output_type": "execute_result",
          "data": {
            "text/html": [
              "<div>\n",
              "<style scoped>\n",
              "    .dataframe tbody tr th:only-of-type {\n",
              "        vertical-align: middle;\n",
              "    }\n",
              "\n",
              "    .dataframe tbody tr th {\n",
              "        vertical-align: top;\n",
              "    }\n",
              "\n",
              "    .dataframe thead th {\n",
              "        text-align: right;\n",
              "    }\n",
              "</style>\n",
              "<table border=\"1\" class=\"dataframe\">\n",
              "  <thead>\n",
              "    <tr style=\"text-align: right;\">\n",
              "      <th></th>\n",
              "      <th>unavail_second</th>\n",
              "      <th>avail_time</th>\n",
              "      <th>bbe</th>\n",
              "      <th>rxlevmax</th>\n",
              "      <th>capacity</th>\n",
              "      <th>card_type_cardtype1</th>\n",
              "      <th>card_type_cardtype2</th>\n",
              "      <th>card_type_cardtype3</th>\n",
              "      <th>card_type_cardtype4</th>\n",
              "      <th>card_type_cardtype5</th>\n",
              "      <th>adaptive_modulation_Disable</th>\n",
              "      <th>adaptive_modulation_Enable</th>\n",
              "      <th>freq_band_f1</th>\n",
              "      <th>freq_band_f2</th>\n",
              "      <th>freq_band_f3</th>\n",
              "      <th>freq_band_f4</th>\n",
              "      <th>freq_band_f5</th>\n",
              "      <th>modulation_1024 QAM</th>\n",
              "      <th>modulation_1024QAM</th>\n",
              "      <th>modulation_128QAM</th>\n",
              "      <th>modulation_128QAM(Q)</th>\n",
              "      <th>modulation_16QAM</th>\n",
              "      <th>modulation_2048QAM</th>\n",
              "      <th>modulation_2048QAM*</th>\n",
              "      <th>modulation_256QAM</th>\n",
              "      <th>modulation_256QAM(Q)</th>\n",
              "      <th>modulation_512QAM</th>\n",
              "      <th>modulation_512QAM(QO)</th>\n",
              "      <th>modulation_64QAM</th>\n",
              "      <th>modulation_C-QPSK</th>\n",
              "    </tr>\n",
              "  </thead>\n",
              "  <tbody>\n",
              "    <tr>\n",
              "      <th>0</th>\n",
              "      <td>0</td>\n",
              "      <td>86400</td>\n",
              "      <td>0</td>\n",
              "      <td>-39.5</td>\n",
              "      <td>200</td>\n",
              "      <td>1</td>\n",
              "      <td>0</td>\n",
              "      <td>0</td>\n",
              "      <td>0</td>\n",
              "      <td>0</td>\n",
              "      <td>0</td>\n",
              "      <td>1</td>\n",
              "      <td>0</td>\n",
              "      <td>0</td>\n",
              "      <td>1</td>\n",
              "      <td>0</td>\n",
              "      <td>0</td>\n",
              "      <td>0</td>\n",
              "      <td>0</td>\n",
              "      <td>0</td>\n",
              "      <td>0</td>\n",
              "      <td>0</td>\n",
              "      <td>0</td>\n",
              "      <td>0</td>\n",
              "      <td>0</td>\n",
              "      <td>0</td>\n",
              "      <td>1</td>\n",
              "      <td>0</td>\n",
              "      <td>0</td>\n",
              "      <td>0</td>\n",
              "    </tr>\n",
              "    <tr>\n",
              "      <th>1</th>\n",
              "      <td>0</td>\n",
              "      <td>86400</td>\n",
              "      <td>0</td>\n",
              "      <td>-44.2</td>\n",
              "      <td>417</td>\n",
              "      <td>1</td>\n",
              "      <td>0</td>\n",
              "      <td>0</td>\n",
              "      <td>0</td>\n",
              "      <td>0</td>\n",
              "      <td>0</td>\n",
              "      <td>1</td>\n",
              "      <td>0</td>\n",
              "      <td>0</td>\n",
              "      <td>1</td>\n",
              "      <td>0</td>\n",
              "      <td>0</td>\n",
              "      <td>0</td>\n",
              "      <td>0</td>\n",
              "      <td>0</td>\n",
              "      <td>0</td>\n",
              "      <td>0</td>\n",
              "      <td>0</td>\n",
              "      <td>0</td>\n",
              "      <td>0</td>\n",
              "      <td>0</td>\n",
              "      <td>0</td>\n",
              "      <td>1</td>\n",
              "      <td>0</td>\n",
              "      <td>0</td>\n",
              "    </tr>\n",
              "    <tr>\n",
              "      <th>2</th>\n",
              "      <td>0</td>\n",
              "      <td>86400</td>\n",
              "      <td>0</td>\n",
              "      <td>-39.8</td>\n",
              "      <td>406</td>\n",
              "      <td>0</td>\n",
              "      <td>0</td>\n",
              "      <td>0</td>\n",
              "      <td>1</td>\n",
              "      <td>0</td>\n",
              "      <td>0</td>\n",
              "      <td>1</td>\n",
              "      <td>0</td>\n",
              "      <td>0</td>\n",
              "      <td>1</td>\n",
              "      <td>0</td>\n",
              "      <td>0</td>\n",
              "      <td>0</td>\n",
              "      <td>0</td>\n",
              "      <td>0</td>\n",
              "      <td>0</td>\n",
              "      <td>0</td>\n",
              "      <td>0</td>\n",
              "      <td>0</td>\n",
              "      <td>0</td>\n",
              "      <td>0</td>\n",
              "      <td>1</td>\n",
              "      <td>0</td>\n",
              "      <td>0</td>\n",
              "      <td>0</td>\n",
              "    </tr>\n",
              "    <tr>\n",
              "      <th>3</th>\n",
              "      <td>0</td>\n",
              "      <td>36900</td>\n",
              "      <td>81</td>\n",
              "      <td>-40.1</td>\n",
              "      <td>200</td>\n",
              "      <td>1</td>\n",
              "      <td>0</td>\n",
              "      <td>0</td>\n",
              "      <td>0</td>\n",
              "      <td>0</td>\n",
              "      <td>0</td>\n",
              "      <td>1</td>\n",
              "      <td>0</td>\n",
              "      <td>1</td>\n",
              "      <td>0</td>\n",
              "      <td>0</td>\n",
              "      <td>0</td>\n",
              "      <td>0</td>\n",
              "      <td>0</td>\n",
              "      <td>0</td>\n",
              "      <td>0</td>\n",
              "      <td>0</td>\n",
              "      <td>0</td>\n",
              "      <td>0</td>\n",
              "      <td>0</td>\n",
              "      <td>0</td>\n",
              "      <td>1</td>\n",
              "      <td>0</td>\n",
              "      <td>0</td>\n",
              "      <td>0</td>\n",
              "    </tr>\n",
              "    <tr>\n",
              "      <th>4</th>\n",
              "      <td>0</td>\n",
              "      <td>86400</td>\n",
              "      <td>0</td>\n",
              "      <td>-32.8</td>\n",
              "      <td>257</td>\n",
              "      <td>0</td>\n",
              "      <td>0</td>\n",
              "      <td>0</td>\n",
              "      <td>0</td>\n",
              "      <td>1</td>\n",
              "      <td>0</td>\n",
              "      <td>1</td>\n",
              "      <td>0</td>\n",
              "      <td>0</td>\n",
              "      <td>0</td>\n",
              "      <td>0</td>\n",
              "      <td>1</td>\n",
              "      <td>0</td>\n",
              "      <td>0</td>\n",
              "      <td>0</td>\n",
              "      <td>0</td>\n",
              "      <td>0</td>\n",
              "      <td>0</td>\n",
              "      <td>0</td>\n",
              "      <td>0</td>\n",
              "      <td>0</td>\n",
              "      <td>1</td>\n",
              "      <td>0</td>\n",
              "      <td>0</td>\n",
              "      <td>0</td>\n",
              "    </tr>\n",
              "    <tr>\n",
              "      <th>...</th>\n",
              "      <td>...</td>\n",
              "      <td>...</td>\n",
              "      <td>...</td>\n",
              "      <td>...</td>\n",
              "      <td>...</td>\n",
              "      <td>...</td>\n",
              "      <td>...</td>\n",
              "      <td>...</td>\n",
              "      <td>...</td>\n",
              "      <td>...</td>\n",
              "      <td>...</td>\n",
              "      <td>...</td>\n",
              "      <td>...</td>\n",
              "      <td>...</td>\n",
              "      <td>...</td>\n",
              "      <td>...</td>\n",
              "      <td>...</td>\n",
              "      <td>...</td>\n",
              "      <td>...</td>\n",
              "      <td>...</td>\n",
              "      <td>...</td>\n",
              "      <td>...</td>\n",
              "      <td>...</td>\n",
              "      <td>...</td>\n",
              "      <td>...</td>\n",
              "      <td>...</td>\n",
              "      <td>...</td>\n",
              "      <td>...</td>\n",
              "      <td>...</td>\n",
              "      <td>...</td>\n",
              "    </tr>\n",
              "    <tr>\n",
              "      <th>180305</th>\n",
              "      <td>0</td>\n",
              "      <td>86400</td>\n",
              "      <td>0</td>\n",
              "      <td>-47.6</td>\n",
              "      <td>203</td>\n",
              "      <td>0</td>\n",
              "      <td>0</td>\n",
              "      <td>0</td>\n",
              "      <td>1</td>\n",
              "      <td>0</td>\n",
              "      <td>0</td>\n",
              "      <td>1</td>\n",
              "      <td>0</td>\n",
              "      <td>1</td>\n",
              "      <td>0</td>\n",
              "      <td>0</td>\n",
              "      <td>0</td>\n",
              "      <td>0</td>\n",
              "      <td>0</td>\n",
              "      <td>0</td>\n",
              "      <td>0</td>\n",
              "      <td>0</td>\n",
              "      <td>0</td>\n",
              "      <td>0</td>\n",
              "      <td>0</td>\n",
              "      <td>0</td>\n",
              "      <td>1</td>\n",
              "      <td>0</td>\n",
              "      <td>0</td>\n",
              "      <td>0</td>\n",
              "    </tr>\n",
              "    <tr>\n",
              "      <th>180306</th>\n",
              "      <td>0</td>\n",
              "      <td>86400</td>\n",
              "      <td>0</td>\n",
              "      <td>-41.0</td>\n",
              "      <td>318</td>\n",
              "      <td>0</td>\n",
              "      <td>0</td>\n",
              "      <td>0</td>\n",
              "      <td>0</td>\n",
              "      <td>1</td>\n",
              "      <td>0</td>\n",
              "      <td>1</td>\n",
              "      <td>0</td>\n",
              "      <td>0</td>\n",
              "      <td>0</td>\n",
              "      <td>1</td>\n",
              "      <td>0</td>\n",
              "      <td>0</td>\n",
              "      <td>0</td>\n",
              "      <td>1</td>\n",
              "      <td>0</td>\n",
              "      <td>0</td>\n",
              "      <td>0</td>\n",
              "      <td>0</td>\n",
              "      <td>0</td>\n",
              "      <td>0</td>\n",
              "      <td>0</td>\n",
              "      <td>0</td>\n",
              "      <td>0</td>\n",
              "      <td>0</td>\n",
              "    </tr>\n",
              "    <tr>\n",
              "      <th>180307</th>\n",
              "      <td>0</td>\n",
              "      <td>86400</td>\n",
              "      <td>0</td>\n",
              "      <td>-45.5</td>\n",
              "      <td>407</td>\n",
              "      <td>0</td>\n",
              "      <td>0</td>\n",
              "      <td>0</td>\n",
              "      <td>0</td>\n",
              "      <td>1</td>\n",
              "      <td>0</td>\n",
              "      <td>1</td>\n",
              "      <td>0</td>\n",
              "      <td>0</td>\n",
              "      <td>1</td>\n",
              "      <td>0</td>\n",
              "      <td>0</td>\n",
              "      <td>0</td>\n",
              "      <td>0</td>\n",
              "      <td>0</td>\n",
              "      <td>0</td>\n",
              "      <td>0</td>\n",
              "      <td>0</td>\n",
              "      <td>0</td>\n",
              "      <td>0</td>\n",
              "      <td>0</td>\n",
              "      <td>1</td>\n",
              "      <td>0</td>\n",
              "      <td>0</td>\n",
              "      <td>0</td>\n",
              "    </tr>\n",
              "    <tr>\n",
              "      <th>180308</th>\n",
              "      <td>0</td>\n",
              "      <td>86400</td>\n",
              "      <td>0</td>\n",
              "      <td>-28.4</td>\n",
              "      <td>407</td>\n",
              "      <td>0</td>\n",
              "      <td>0</td>\n",
              "      <td>0</td>\n",
              "      <td>0</td>\n",
              "      <td>1</td>\n",
              "      <td>0</td>\n",
              "      <td>1</td>\n",
              "      <td>0</td>\n",
              "      <td>0</td>\n",
              "      <td>0</td>\n",
              "      <td>1</td>\n",
              "      <td>0</td>\n",
              "      <td>0</td>\n",
              "      <td>0</td>\n",
              "      <td>0</td>\n",
              "      <td>0</td>\n",
              "      <td>0</td>\n",
              "      <td>0</td>\n",
              "      <td>0</td>\n",
              "      <td>0</td>\n",
              "      <td>0</td>\n",
              "      <td>1</td>\n",
              "      <td>0</td>\n",
              "      <td>0</td>\n",
              "      <td>0</td>\n",
              "    </tr>\n",
              "    <tr>\n",
              "      <th>180309</th>\n",
              "      <td>0</td>\n",
              "      <td>86400</td>\n",
              "      <td>0</td>\n",
              "      <td>-39.4</td>\n",
              "      <td>495</td>\n",
              "      <td>0</td>\n",
              "      <td>0</td>\n",
              "      <td>0</td>\n",
              "      <td>0</td>\n",
              "      <td>1</td>\n",
              "      <td>0</td>\n",
              "      <td>1</td>\n",
              "      <td>0</td>\n",
              "      <td>0</td>\n",
              "      <td>1</td>\n",
              "      <td>0</td>\n",
              "      <td>0</td>\n",
              "      <td>0</td>\n",
              "      <td>0</td>\n",
              "      <td>0</td>\n",
              "      <td>0</td>\n",
              "      <td>0</td>\n",
              "      <td>1</td>\n",
              "      <td>0</td>\n",
              "      <td>0</td>\n",
              "      <td>0</td>\n",
              "      <td>0</td>\n",
              "      <td>0</td>\n",
              "      <td>0</td>\n",
              "      <td>0</td>\n",
              "    </tr>\n",
              "  </tbody>\n",
              "</table>\n",
              "<p>180310 rows × 30 columns</p>\n",
              "</div>"
            ],
            "text/plain": [
              "        unavail_second  avail_time  ...  modulation_64QAM  modulation_C-QPSK\n",
              "0                    0       86400  ...                 0                  0\n",
              "1                    0       86400  ...                 0                  0\n",
              "2                    0       86400  ...                 0                  0\n",
              "3                    0       36900  ...                 0                  0\n",
              "4                    0       86400  ...                 0                  0\n",
              "...                ...         ...  ...               ...                ...\n",
              "180305               0       86400  ...                 0                  0\n",
              "180306               0       86400  ...                 0                  0\n",
              "180307               0       86400  ...                 0                  0\n",
              "180308               0       86400  ...                 0                  0\n",
              "180309               0       86400  ...                 0                  0\n",
              "\n",
              "[180310 rows x 30 columns]"
            ]
          },
          "metadata": {
            "tags": []
          },
          "execution_count": 14
        }
      ]
    },
    {
      "cell_type": "code",
      "metadata": {
        "id": "gCVqljMMyiA-"
      },
      "source": [
        "# try a SVM model (as per exammpleb)"
      ],
      "execution_count": null,
      "outputs": []
    },
    {
      "cell_type": "code",
      "metadata": {
        "id": "-w0Knio0ymtQ"
      },
      "source": [
        "X_train, X_test, y_train, y_test = train_test_split(X, y, test_size=0.2, random_state=0)"
      ],
      "execution_count": null,
      "outputs": []
    },
    {
      "cell_type": "code",
      "metadata": {
        "id": "mmulwOWQ2Dyn",
        "outputId": "cc397ef7-ef2a-4857-8d46-b8ff45d9b01c",
        "colab": {
          "base_uri": "https://localhost:8080/",
          "height": 461
        }
      },
      "source": [
        "X_train"
      ],
      "execution_count": null,
      "outputs": [
        {
          "output_type": "execute_result",
          "data": {
            "text/html": [
              "<div>\n",
              "<style scoped>\n",
              "    .dataframe tbody tr th:only-of-type {\n",
              "        vertical-align: middle;\n",
              "    }\n",
              "\n",
              "    .dataframe tbody tr th {\n",
              "        vertical-align: top;\n",
              "    }\n",
              "\n",
              "    .dataframe thead th {\n",
              "        text-align: right;\n",
              "    }\n",
              "</style>\n",
              "<table border=\"1\" class=\"dataframe\">\n",
              "  <thead>\n",
              "    <tr style=\"text-align: right;\">\n",
              "      <th></th>\n",
              "      <th>unavail_second</th>\n",
              "      <th>avail_time</th>\n",
              "      <th>bbe</th>\n",
              "      <th>rxlevmax</th>\n",
              "      <th>capacity</th>\n",
              "      <th>card_type_cardtype1</th>\n",
              "      <th>card_type_cardtype2</th>\n",
              "      <th>card_type_cardtype3</th>\n",
              "      <th>card_type_cardtype4</th>\n",
              "      <th>card_type_cardtype5</th>\n",
              "      <th>adaptive_modulation_Disable</th>\n",
              "      <th>adaptive_modulation_Enable</th>\n",
              "      <th>freq_band_f1</th>\n",
              "      <th>freq_band_f2</th>\n",
              "      <th>freq_band_f3</th>\n",
              "      <th>freq_band_f4</th>\n",
              "      <th>freq_band_f5</th>\n",
              "      <th>modulation_1024 QAM</th>\n",
              "      <th>modulation_1024QAM</th>\n",
              "      <th>modulation_128QAM</th>\n",
              "      <th>modulation_128QAM(Q)</th>\n",
              "      <th>modulation_16QAM</th>\n",
              "      <th>modulation_2048QAM</th>\n",
              "      <th>modulation_2048QAM*</th>\n",
              "      <th>modulation_256QAM</th>\n",
              "      <th>modulation_256QAM(Q)</th>\n",
              "      <th>modulation_512QAM</th>\n",
              "      <th>modulation_512QAM(QO)</th>\n",
              "      <th>modulation_64QAM</th>\n",
              "      <th>modulation_C-QPSK</th>\n",
              "    </tr>\n",
              "  </thead>\n",
              "  <tbody>\n",
              "    <tr>\n",
              "      <th>95242</th>\n",
              "      <td>0</td>\n",
              "      <td>86400</td>\n",
              "      <td>0</td>\n",
              "      <td>-44.8</td>\n",
              "      <td>84</td>\n",
              "      <td>0</td>\n",
              "      <td>0</td>\n",
              "      <td>0</td>\n",
              "      <td>1</td>\n",
              "      <td>0</td>\n",
              "      <td>0</td>\n",
              "      <td>1</td>\n",
              "      <td>0</td>\n",
              "      <td>1</td>\n",
              "      <td>0</td>\n",
              "      <td>0</td>\n",
              "      <td>0</td>\n",
              "      <td>0</td>\n",
              "      <td>0</td>\n",
              "      <td>0</td>\n",
              "      <td>0</td>\n",
              "      <td>0</td>\n",
              "      <td>0</td>\n",
              "      <td>0</td>\n",
              "      <td>1</td>\n",
              "      <td>0</td>\n",
              "      <td>0</td>\n",
              "      <td>0</td>\n",
              "      <td>0</td>\n",
              "      <td>0</td>\n",
              "    </tr>\n",
              "    <tr>\n",
              "      <th>64635</th>\n",
              "      <td>0</td>\n",
              "      <td>86400</td>\n",
              "      <td>0</td>\n",
              "      <td>-39.8</td>\n",
              "      <td>91</td>\n",
              "      <td>0</td>\n",
              "      <td>0</td>\n",
              "      <td>0</td>\n",
              "      <td>1</td>\n",
              "      <td>0</td>\n",
              "      <td>0</td>\n",
              "      <td>1</td>\n",
              "      <td>0</td>\n",
              "      <td>0</td>\n",
              "      <td>0</td>\n",
              "      <td>0</td>\n",
              "      <td>1</td>\n",
              "      <td>0</td>\n",
              "      <td>0</td>\n",
              "      <td>0</td>\n",
              "      <td>0</td>\n",
              "      <td>1</td>\n",
              "      <td>0</td>\n",
              "      <td>0</td>\n",
              "      <td>0</td>\n",
              "      <td>0</td>\n",
              "      <td>0</td>\n",
              "      <td>0</td>\n",
              "      <td>0</td>\n",
              "      <td>0</td>\n",
              "    </tr>\n",
              "    <tr>\n",
              "      <th>23969</th>\n",
              "      <td>0</td>\n",
              "      <td>86400</td>\n",
              "      <td>0</td>\n",
              "      <td>-39.4</td>\n",
              "      <td>247</td>\n",
              "      <td>0</td>\n",
              "      <td>0</td>\n",
              "      <td>0</td>\n",
              "      <td>0</td>\n",
              "      <td>1</td>\n",
              "      <td>0</td>\n",
              "      <td>1</td>\n",
              "      <td>0</td>\n",
              "      <td>0</td>\n",
              "      <td>1</td>\n",
              "      <td>0</td>\n",
              "      <td>0</td>\n",
              "      <td>0</td>\n",
              "      <td>0</td>\n",
              "      <td>0</td>\n",
              "      <td>0</td>\n",
              "      <td>0</td>\n",
              "      <td>0</td>\n",
              "      <td>1</td>\n",
              "      <td>0</td>\n",
              "      <td>0</td>\n",
              "      <td>0</td>\n",
              "      <td>0</td>\n",
              "      <td>0</td>\n",
              "      <td>0</td>\n",
              "    </tr>\n",
              "    <tr>\n",
              "      <th>132223</th>\n",
              "      <td>0</td>\n",
              "      <td>86400</td>\n",
              "      <td>0</td>\n",
              "      <td>-32.1</td>\n",
              "      <td>203</td>\n",
              "      <td>0</td>\n",
              "      <td>0</td>\n",
              "      <td>0</td>\n",
              "      <td>0</td>\n",
              "      <td>1</td>\n",
              "      <td>0</td>\n",
              "      <td>1</td>\n",
              "      <td>0</td>\n",
              "      <td>0</td>\n",
              "      <td>0</td>\n",
              "      <td>0</td>\n",
              "      <td>1</td>\n",
              "      <td>0</td>\n",
              "      <td>0</td>\n",
              "      <td>0</td>\n",
              "      <td>0</td>\n",
              "      <td>0</td>\n",
              "      <td>0</td>\n",
              "      <td>0</td>\n",
              "      <td>0</td>\n",
              "      <td>0</td>\n",
              "      <td>1</td>\n",
              "      <td>0</td>\n",
              "      <td>0</td>\n",
              "      <td>0</td>\n",
              "    </tr>\n",
              "    <tr>\n",
              "      <th>108796</th>\n",
              "      <td>0</td>\n",
              "      <td>86400</td>\n",
              "      <td>0</td>\n",
              "      <td>-42.3</td>\n",
              "      <td>325</td>\n",
              "      <td>0</td>\n",
              "      <td>0</td>\n",
              "      <td>0</td>\n",
              "      <td>1</td>\n",
              "      <td>0</td>\n",
              "      <td>0</td>\n",
              "      <td>1</td>\n",
              "      <td>0</td>\n",
              "      <td>0</td>\n",
              "      <td>1</td>\n",
              "      <td>0</td>\n",
              "      <td>0</td>\n",
              "      <td>0</td>\n",
              "      <td>0</td>\n",
              "      <td>1</td>\n",
              "      <td>0</td>\n",
              "      <td>0</td>\n",
              "      <td>0</td>\n",
              "      <td>0</td>\n",
              "      <td>0</td>\n",
              "      <td>0</td>\n",
              "      <td>0</td>\n",
              "      <td>0</td>\n",
              "      <td>0</td>\n",
              "      <td>0</td>\n",
              "    </tr>\n",
              "    <tr>\n",
              "      <th>...</th>\n",
              "      <td>...</td>\n",
              "      <td>...</td>\n",
              "      <td>...</td>\n",
              "      <td>...</td>\n",
              "      <td>...</td>\n",
              "      <td>...</td>\n",
              "      <td>...</td>\n",
              "      <td>...</td>\n",
              "      <td>...</td>\n",
              "      <td>...</td>\n",
              "      <td>...</td>\n",
              "      <td>...</td>\n",
              "      <td>...</td>\n",
              "      <td>...</td>\n",
              "      <td>...</td>\n",
              "      <td>...</td>\n",
              "      <td>...</td>\n",
              "      <td>...</td>\n",
              "      <td>...</td>\n",
              "      <td>...</td>\n",
              "      <td>...</td>\n",
              "      <td>...</td>\n",
              "      <td>...</td>\n",
              "      <td>...</td>\n",
              "      <td>...</td>\n",
              "      <td>...</td>\n",
              "      <td>...</td>\n",
              "      <td>...</td>\n",
              "      <td>...</td>\n",
              "      <td>...</td>\n",
              "    </tr>\n",
              "    <tr>\n",
              "      <th>152315</th>\n",
              "      <td>0</td>\n",
              "      <td>86400</td>\n",
              "      <td>0</td>\n",
              "      <td>-39.5</td>\n",
              "      <td>91</td>\n",
              "      <td>0</td>\n",
              "      <td>0</td>\n",
              "      <td>0</td>\n",
              "      <td>1</td>\n",
              "      <td>0</td>\n",
              "      <td>1</td>\n",
              "      <td>0</td>\n",
              "      <td>0</td>\n",
              "      <td>0</td>\n",
              "      <td>1</td>\n",
              "      <td>0</td>\n",
              "      <td>0</td>\n",
              "      <td>0</td>\n",
              "      <td>0</td>\n",
              "      <td>0</td>\n",
              "      <td>0</td>\n",
              "      <td>1</td>\n",
              "      <td>0</td>\n",
              "      <td>0</td>\n",
              "      <td>0</td>\n",
              "      <td>0</td>\n",
              "      <td>0</td>\n",
              "      <td>0</td>\n",
              "      <td>0</td>\n",
              "      <td>0</td>\n",
              "    </tr>\n",
              "    <tr>\n",
              "      <th>176963</th>\n",
              "      <td>0</td>\n",
              "      <td>86400</td>\n",
              "      <td>0</td>\n",
              "      <td>-29.7</td>\n",
              "      <td>406</td>\n",
              "      <td>0</td>\n",
              "      <td>0</td>\n",
              "      <td>0</td>\n",
              "      <td>1</td>\n",
              "      <td>0</td>\n",
              "      <td>0</td>\n",
              "      <td>1</td>\n",
              "      <td>0</td>\n",
              "      <td>0</td>\n",
              "      <td>1</td>\n",
              "      <td>0</td>\n",
              "      <td>0</td>\n",
              "      <td>0</td>\n",
              "      <td>0</td>\n",
              "      <td>0</td>\n",
              "      <td>0</td>\n",
              "      <td>0</td>\n",
              "      <td>0</td>\n",
              "      <td>0</td>\n",
              "      <td>0</td>\n",
              "      <td>0</td>\n",
              "      <td>1</td>\n",
              "      <td>0</td>\n",
              "      <td>0</td>\n",
              "      <td>0</td>\n",
              "    </tr>\n",
              "    <tr>\n",
              "      <th>117952</th>\n",
              "      <td>0</td>\n",
              "      <td>86400</td>\n",
              "      <td>0</td>\n",
              "      <td>-23.3</td>\n",
              "      <td>257</td>\n",
              "      <td>0</td>\n",
              "      <td>0</td>\n",
              "      <td>0</td>\n",
              "      <td>0</td>\n",
              "      <td>1</td>\n",
              "      <td>0</td>\n",
              "      <td>1</td>\n",
              "      <td>0</td>\n",
              "      <td>0</td>\n",
              "      <td>0</td>\n",
              "      <td>0</td>\n",
              "      <td>1</td>\n",
              "      <td>0</td>\n",
              "      <td>0</td>\n",
              "      <td>0</td>\n",
              "      <td>0</td>\n",
              "      <td>0</td>\n",
              "      <td>0</td>\n",
              "      <td>0</td>\n",
              "      <td>0</td>\n",
              "      <td>0</td>\n",
              "      <td>1</td>\n",
              "      <td>0</td>\n",
              "      <td>0</td>\n",
              "      <td>0</td>\n",
              "    </tr>\n",
              "    <tr>\n",
              "      <th>173685</th>\n",
              "      <td>0</td>\n",
              "      <td>86400</td>\n",
              "      <td>0</td>\n",
              "      <td>-33.2</td>\n",
              "      <td>203</td>\n",
              "      <td>0</td>\n",
              "      <td>0</td>\n",
              "      <td>0</td>\n",
              "      <td>0</td>\n",
              "      <td>1</td>\n",
              "      <td>0</td>\n",
              "      <td>1</td>\n",
              "      <td>0</td>\n",
              "      <td>0</td>\n",
              "      <td>1</td>\n",
              "      <td>0</td>\n",
              "      <td>0</td>\n",
              "      <td>0</td>\n",
              "      <td>0</td>\n",
              "      <td>0</td>\n",
              "      <td>0</td>\n",
              "      <td>0</td>\n",
              "      <td>0</td>\n",
              "      <td>0</td>\n",
              "      <td>0</td>\n",
              "      <td>0</td>\n",
              "      <td>1</td>\n",
              "      <td>0</td>\n",
              "      <td>0</td>\n",
              "      <td>0</td>\n",
              "    </tr>\n",
              "    <tr>\n",
              "      <th>43567</th>\n",
              "      <td>0</td>\n",
              "      <td>29700</td>\n",
              "      <td>0</td>\n",
              "      <td>-39.8</td>\n",
              "      <td>154</td>\n",
              "      <td>0</td>\n",
              "      <td>1</td>\n",
              "      <td>0</td>\n",
              "      <td>0</td>\n",
              "      <td>0</td>\n",
              "      <td>0</td>\n",
              "      <td>1</td>\n",
              "      <td>0</td>\n",
              "      <td>0</td>\n",
              "      <td>1</td>\n",
              "      <td>0</td>\n",
              "      <td>0</td>\n",
              "      <td>0</td>\n",
              "      <td>0</td>\n",
              "      <td>1</td>\n",
              "      <td>0</td>\n",
              "      <td>0</td>\n",
              "      <td>0</td>\n",
              "      <td>0</td>\n",
              "      <td>0</td>\n",
              "      <td>0</td>\n",
              "      <td>0</td>\n",
              "      <td>0</td>\n",
              "      <td>0</td>\n",
              "      <td>0</td>\n",
              "    </tr>\n",
              "  </tbody>\n",
              "</table>\n",
              "<p>144248 rows × 30 columns</p>\n",
              "</div>"
            ],
            "text/plain": [
              "        unavail_second  avail_time  ...  modulation_64QAM  modulation_C-QPSK\n",
              "95242                0       86400  ...                 0                  0\n",
              "64635                0       86400  ...                 0                  0\n",
              "23969                0       86400  ...                 0                  0\n",
              "132223               0       86400  ...                 0                  0\n",
              "108796               0       86400  ...                 0                  0\n",
              "...                ...         ...  ...               ...                ...\n",
              "152315               0       86400  ...                 0                  0\n",
              "176963               0       86400  ...                 0                  0\n",
              "117952               0       86400  ...                 0                  0\n",
              "173685               0       86400  ...                 0                  0\n",
              "43567                0       29700  ...                 0                  0\n",
              "\n",
              "[144248 rows x 30 columns]"
            ]
          },
          "metadata": {
            "tags": []
          },
          "execution_count": 16
        }
      ]
    },
    {
      "cell_type": "code",
      "metadata": {
        "id": "og8Kn7hPypSw",
        "outputId": "dae4c99a-f887-4e2e-a6ce-37cae2317f84",
        "colab": {
          "base_uri": "https://localhost:8080/"
        }
      },
      "source": [
        "svc = SVC(kernel='linear', C=10.0, random_state=1)\n",
        "svc.fit(X_train, y_train)"
      ],
      "execution_count": null,
      "outputs": [
        {
          "output_type": "execute_result",
          "data": {
            "text/plain": [
              "SVC(C=10.0, break_ties=False, cache_size=200, class_weight=None, coef0=0.0,\n",
              "    decision_function_shape='ovr', degree=3, gamma='scale', kernel='linear',\n",
              "    max_iter=-1, probability=False, random_state=1, shrinking=True, tol=0.001,\n",
              "    verbose=False)"
            ]
          },
          "metadata": {
            "tags": []
          },
          "execution_count": 34
        }
      ]
    },
    {
      "cell_type": "code",
      "metadata": {
        "id": "a1fHM4_YHDrS"
      },
      "source": [
        "X = X_train\n",
        "Y = y_train\n"
      ],
      "execution_count": null,
      "outputs": []
    },
    {
      "cell_type": "code",
      "metadata": {
        "id": "Tjst3C0CGK5c",
        "outputId": "7c6e1590-f5b5-4f91-aefb-ccab747df124",
        "colab": {
          "base_uri": "https://localhost:8080/",
          "height": 655
        }
      },
      "source": [
        "fignum = 1\n",
        "\n",
        "for kernel in ('linear', 'poly', 'rbf'):\n",
        "    clf = svm.SVC(kernel=kernel, gamma=2)\n",
        "    clf.fit(X, Y)\n",
        "\n",
        "    # plot the line, the points, and the nearest vectors to the plane\n",
        "    plt.figure(fignum, figsize=(4, 3))\n",
        "    plt.clf()\n",
        "\n",
        "    plt.scatter(clf.support_vectors_[:, 0], clf.support_vectors_[:, 1], s=80,\n",
        "                facecolors='none', zorder=10, edgecolors='k')\n",
        "    plt.scatter(X[:, 0], X[:, 1], c=Y, zorder=10, cmap=plt.cm.Paired,\n",
        "                edgecolors='k')\n",
        "\n",
        "    plt.axis('tight')\n",
        "    x_min = -3\n",
        "    x_max = 3\n",
        "    y_min = -3\n",
        "    y_max = 3\n",
        "\n",
        "    XX, YY = np.mgrid[x_min:x_max:200j, y_min:y_max:200j]\n",
        "    Z = clf.decision_function(np.c_[XX.ravel(), YY.ravel()])\n",
        "\n",
        "    # Put the result into a color plot\n",
        "    Z = Z.reshape(XX.shape)\n",
        "    plt.figure(fignum, figsize=(4, 3))\n",
        "    plt.pcolormesh(XX, YY, Z > 0, cmap=plt.cm.Paired)\n",
        "    plt.contour(XX, YY, Z, colors=['blue', 'blue', 'blue'], linestyles=['--', '-', '--'],\n",
        "                levels=[-.5, 0, .5])\n",
        "\n",
        "    plt.xlim(x_min, x_max)\n",
        "    plt.ylim(y_min, y_max)\n",
        "\n",
        "    plt.xticks(())\n",
        "    plt.yticks(())\n",
        "    fignum = fignum + 1\n",
        "plt.show()"
      ],
      "execution_count": null,
      "outputs": [
        {
          "output_type": "error",
          "ename": "TypeError",
          "evalue": "ignored",
          "traceback": [
            "\u001b[0;31m---------------------------------------------------------------------------\u001b[0m",
            "\u001b[0;31mTypeError\u001b[0m                                 Traceback (most recent call last)",
            "\u001b[0;32m<ipython-input-17-b6dde7b4f177>\u001b[0m in \u001b[0;36m<module>\u001b[0;34m()\u001b[0m\n\u001b[1;32m     11\u001b[0m     plt.scatter(clf.support_vectors_[:, 0], clf.support_vectors_[:, 1], s=80,\n\u001b[1;32m     12\u001b[0m                 facecolors='none', zorder=10, edgecolors='k')\n\u001b[0;32m---> 13\u001b[0;31m     plt.scatter(X[:, 0], X[:, 1], c=Y, zorder=10, cmap=plt.cm.Paired,\n\u001b[0m\u001b[1;32m     14\u001b[0m                 edgecolors='k')\n\u001b[1;32m     15\u001b[0m \u001b[0;34m\u001b[0m\u001b[0m\n",
            "\u001b[0;32m/usr/local/lib/python3.6/dist-packages/pandas/core/frame.py\u001b[0m in \u001b[0;36m__getitem__\u001b[0;34m(self, key)\u001b[0m\n\u001b[1;32m   2900\u001b[0m             \u001b[0;32mif\u001b[0m \u001b[0mself\u001b[0m\u001b[0;34m.\u001b[0m\u001b[0mcolumns\u001b[0m\u001b[0;34m.\u001b[0m\u001b[0mnlevels\u001b[0m \u001b[0;34m>\u001b[0m \u001b[0;36m1\u001b[0m\u001b[0;34m:\u001b[0m\u001b[0;34m\u001b[0m\u001b[0;34m\u001b[0m\u001b[0m\n\u001b[1;32m   2901\u001b[0m                 \u001b[0;32mreturn\u001b[0m \u001b[0mself\u001b[0m\u001b[0;34m.\u001b[0m\u001b[0m_getitem_multilevel\u001b[0m\u001b[0;34m(\u001b[0m\u001b[0mkey\u001b[0m\u001b[0;34m)\u001b[0m\u001b[0;34m\u001b[0m\u001b[0;34m\u001b[0m\u001b[0m\n\u001b[0;32m-> 2902\u001b[0;31m             \u001b[0mindexer\u001b[0m \u001b[0;34m=\u001b[0m \u001b[0mself\u001b[0m\u001b[0;34m.\u001b[0m\u001b[0mcolumns\u001b[0m\u001b[0;34m.\u001b[0m\u001b[0mget_loc\u001b[0m\u001b[0;34m(\u001b[0m\u001b[0mkey\u001b[0m\u001b[0;34m)\u001b[0m\u001b[0;34m\u001b[0m\u001b[0;34m\u001b[0m\u001b[0m\n\u001b[0m\u001b[1;32m   2903\u001b[0m             \u001b[0;32mif\u001b[0m \u001b[0mis_integer\u001b[0m\u001b[0;34m(\u001b[0m\u001b[0mindexer\u001b[0m\u001b[0;34m)\u001b[0m\u001b[0;34m:\u001b[0m\u001b[0;34m\u001b[0m\u001b[0;34m\u001b[0m\u001b[0m\n\u001b[1;32m   2904\u001b[0m                 \u001b[0mindexer\u001b[0m \u001b[0;34m=\u001b[0m \u001b[0;34m[\u001b[0m\u001b[0mindexer\u001b[0m\u001b[0;34m]\u001b[0m\u001b[0;34m\u001b[0m\u001b[0;34m\u001b[0m\u001b[0m\n",
            "\u001b[0;32m/usr/local/lib/python3.6/dist-packages/pandas/core/indexes/base.py\u001b[0m in \u001b[0;36mget_loc\u001b[0;34m(self, key, method, tolerance)\u001b[0m\n\u001b[1;32m   2889\u001b[0m             \u001b[0mcasted_key\u001b[0m \u001b[0;34m=\u001b[0m \u001b[0mself\u001b[0m\u001b[0;34m.\u001b[0m\u001b[0m_maybe_cast_indexer\u001b[0m\u001b[0;34m(\u001b[0m\u001b[0mkey\u001b[0m\u001b[0;34m)\u001b[0m\u001b[0;34m\u001b[0m\u001b[0;34m\u001b[0m\u001b[0m\n\u001b[1;32m   2890\u001b[0m             \u001b[0;32mtry\u001b[0m\u001b[0;34m:\u001b[0m\u001b[0;34m\u001b[0m\u001b[0;34m\u001b[0m\u001b[0m\n\u001b[0;32m-> 2891\u001b[0;31m                 \u001b[0;32mreturn\u001b[0m \u001b[0mself\u001b[0m\u001b[0;34m.\u001b[0m\u001b[0m_engine\u001b[0m\u001b[0;34m.\u001b[0m\u001b[0mget_loc\u001b[0m\u001b[0;34m(\u001b[0m\u001b[0mcasted_key\u001b[0m\u001b[0;34m)\u001b[0m\u001b[0;34m\u001b[0m\u001b[0;34m\u001b[0m\u001b[0m\n\u001b[0m\u001b[1;32m   2892\u001b[0m             \u001b[0;32mexcept\u001b[0m \u001b[0mKeyError\u001b[0m \u001b[0;32mas\u001b[0m \u001b[0merr\u001b[0m\u001b[0;34m:\u001b[0m\u001b[0;34m\u001b[0m\u001b[0;34m\u001b[0m\u001b[0m\n\u001b[1;32m   2893\u001b[0m                 \u001b[0;32mraise\u001b[0m \u001b[0mKeyError\u001b[0m\u001b[0;34m(\u001b[0m\u001b[0mkey\u001b[0m\u001b[0;34m)\u001b[0m \u001b[0;32mfrom\u001b[0m \u001b[0merr\u001b[0m\u001b[0;34m\u001b[0m\u001b[0;34m\u001b[0m\u001b[0m\n",
            "\u001b[0;32mpandas/_libs/index.pyx\u001b[0m in \u001b[0;36mpandas._libs.index.IndexEngine.get_loc\u001b[0;34m()\u001b[0m\n",
            "\u001b[0;32mpandas/_libs/index.pyx\u001b[0m in \u001b[0;36mpandas._libs.index.IndexEngine.get_loc\u001b[0;34m()\u001b[0m\n",
            "\u001b[0;31mTypeError\u001b[0m: '(slice(None, None, None), 0)' is an invalid key"
          ]
        },
        {
          "output_type": "display_data",
          "data": {
            "image/png": "[encoded data removed]",
            "text/plain": [
              "<Figure size 288x216 with 1 Axes>"
            ]
          },
          "metadata": {
            "tags": [],
            "needs_background": "light"
          }
        }
      ]
    },
    {
      "cell_type": "code",
      "metadata": {
        "id": "hArnKs6mytqr"
      },
      "source": [
        "# prediction"
      ],
      "execution_count": null,
      "outputs": []
    },
    {
      "cell_type": "code",
      "metadata": {
        "id": "wzPJfZrN5vgi"
      },
      "source": [
        "pred = svc.predict(X_test)"
      ],
      "execution_count": null,
      "outputs": []
    },
    {
      "cell_type": "code",
      "metadata": {
        "id": "ByuJDVsx5xQP"
      },
      "source": [
        "#confusion matrix"
      ],
      "execution_count": null,
      "outputs": []
    },
    {
      "cell_type": "code",
      "metadata": {
        "id": "w4OXI-AP5yz6"
      },
      "source": [
        "conf_matrix = confusion_matrix(y_true=y_test, y_pred=y_pred)"
      ],
      "execution_count": null,
      "outputs": []
    },
    {
      "cell_type": "code",
      "metadata": {
        "id": "_wf4MLvx5-xW",
        "outputId": "83b1847b-58af-4fa0-81cf-379814a873ab",
        "colab": {
          "base_uri": "https://localhost:8080/",
          "height": 358
        }
      },
      "source": [
        "# Print the confusion matrix using Matplotlib\n",
        "#\n",
        "fig, ax = plt.subplots(figsize=(5, 5))\n",
        "ax.matshow(conf_matrix, cmap=plt.cm.Oranges, alpha=0.3)\n",
        "for i in range(conf_matrix.shape[0]):\n",
        "    for j in range(conf_matrix.shape[1]):\n",
        "        ax.text(x=j, y=i,s=conf_matrix[i, j], va='center', ha='center', size='xx-large')\n",
        " \n",
        "plt.xlabel('Predictions', fontsize=18)\n",
        "plt.ylabel('Actuals', fontsize=18)\n",
        "plt.title('Confusion Matrix', fontsize=18)\n",
        "plt.show()"
      ],
      "execution_count": null,
      "outputs": [
        {
          "output_type": "display_data",
          "data": {
            "image/png": "[encoded data removed]",
            "text/plain": [
              "<Figure size 360x360 with 1 Axes>"
            ]
          },
          "metadata": {
            "tags": [],
            "needs_background": "light"
          }
        }
      ]
    },
    {
      "cell_type": "code",
      "metadata": {
        "id": "fBR014XM6FTI",
        "outputId": "0d6e47df-43cf-4ffb-d56d-546d9a9eb8b1",
        "colab": {
          "base_uri": "https://localhost:8080/"
        }
      },
      "source": [
        "# metrics\n",
        "print('Precision: %.3f' % precision_score(y_test, y_pred))\n",
        "print('Recall: %.3f' % recall_score(y_test, y_pred))\n",
        "print('Accuracy: %.3f' % accuracy_score(y_test, y_pred))\n",
        "print('F1 Score: %.3f' % f1_score(y_test, y_pred))"
      ],
      "execution_count": null,
      "outputs": [
        {
          "output_type": "stream",
          "text": [
            "Precision: 0.997\n",
            "Recall: 1.000\n",
            "Accuracy: 0.997\n",
            "F1 Score: 0.998\n"
          ],
          "name": "stdout"
        }
      ]
    },
    {
      "cell_type": "code",
      "metadata": {
        "id": "DRufFWztGVY0"
      },
      "source": [
        "# ok, now we should try to get better F1 score... \n",
        "# 99.7 means no better that assuming everying thing is rlf_False (i.e. no failure) since failure rate in data set was ~0.33%.\n",
        "#we should add back some weather data and distance data since that is the point of the challenge - to use weather as factor to predict.\n"
      ],
      "execution_count": null,
      "outputs": []
    },
    {
      "cell_type": "code",
      "metadata": {
        "id": "iuGTwZ7_8Fmr"
      },
      "source": [
        "# can also do various organization, structuing, transofrmations on the existing numerical value datab"
      ],
      "execution_count": null,
      "outputs": []
    },
    {
      "cell_type": "code",
      "metadata": {
        "id": "MDeYhUwc8eXt"
      },
      "source": [
        ""
      ],
      "execution_count": null,
      "outputs": []
    }
  ]
}